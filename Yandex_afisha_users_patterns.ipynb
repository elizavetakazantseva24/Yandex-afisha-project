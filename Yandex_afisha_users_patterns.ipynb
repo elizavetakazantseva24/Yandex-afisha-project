{
 "cells": [
  {
   "cell_type": "markdown",
   "id": "79589894",
   "metadata": {},
   "source": [
    "<div class=\"alert alert-info\"> <b>Комментарий студента:</b> Привет! Спасибо большое за такое подробное ревью, я правда вложила всю душу в финальный проект и очень рада, что эти усилия выразились в высоком качестве работы.\n",
    "\n",
    "Вопросов у меня нет, еще раз выражаю признательность за обратную связь☺️</div>"
   ]
  },
  {
   "cell_type": "markdown",
   "id": "d86b4338-2eff-42df-983a-0ce2c2c5f413",
   "metadata": {},
   "source": [
    "# Исследование предпочтений пользователей и изменений в сервисе для покупки билетов Яндекс.Афиша"
   ]
  },
  {
   "cell_type": "markdown",
   "id": "44f90a25-eaf5-4784-bbda-b14df4e788f3",
   "metadata": {},
   "source": [
    "Сервис Яндекс.Афиша в лице сотрудников отдела продукта обратился с запросом для исследования потребительских предпочтений перед сезоном мероприятий и праздников (ноябрь-декабрь 2024г.). \n",
    "\n",
    "**Цель исследования:** отследить тренды в изменении потребительского спроса и подготовить ключевые рекомендации для успешного проведения сезона праздников. \n",
    "\n",
    "**Задачи исследования:** \n",
    "- проанализировать динамику ключевых показателей в разрезе типов событий, типов устройств и возрастных категорий, выявить сезонность в разрезе перечисленных категорий\n",
    "- пронализировать активность пользователей в осенние месяцы, что позволит повысить точность рекомендаций для текущего сезона\n",
    "- рассмотреть динамику популярности событий в разрезе регионов и партнеров\n",
    "- сравнить метрики пользователей мобильных и десктопных устройств, проверить гипотезы\n",
    "\n",
    "**Описание данных**\n",
    "\n",
    "Данные предоставлены за 5 месяцев - с 01.06.2024 по 30.10.2024. \n",
    "\n",
    "`final_tickets_orders_df.csv` - информация о заказах билетов, совершенных с двух типов устройств (мобильных и стационарных)\n",
    "- `order_id` — уникальный идентификатор заказа;\n",
    "- `user_id` — уникальный идентификатор пользователя;\n",
    "- `created_dt_msk` — дата создания заказа (московское время);\n",
    "- `created_ts_msk` — дата и время создания заказа (московское время);\n",
    "- `event_id` — идентификатор мероприятия из таблицы events;\n",
    "- `cinema_circuit` — маркер сети кинотеатров. Если не применимо, то здесь будет значение 'нет';\n",
    "- `age_limit` — возрастное ограничение мероприятия;\n",
    "- `currency_code` — валюта оплаты, например rub для российских рублей;\n",
    "- `device_type_canonical` — тип устройства, с которого был оформлен заказ, например mobile для мобильных устройств, desktop для стационарных;\n",
    "- `revenue` — выручка от заказа;\n",
    "- `service_name` — название билетного оператора;\n",
    "- `tickets_count` — количество купленных билетов;\n",
    "- `total` — общая сумма заказа;\n",
    "- `days_since_prev` - количество дней с предыдущего заказа (здесь пропуски будут нормальным явлением, так как есть первые заказы, для них предыдущих еще не существует).\n",
    "\n",
    "`final_tickets_events_df.csv` - информация о мероприятиях, площадках, на которых они проходили; регионах, в которых они были организованы\n",
    "- `event_id` — уникальный идентификатор мероприятия;\n",
    "- `event_name` — название мероприятия. Аналог поля event_name_code из исходной базы данных;\n",
    "- `event_type_description` — описание типа мероприятия;\n",
    "- `event_type_main` — основной тип мероприятия: театральная постановка, концерт и так далее;\n",
    "- `organizers` — организаторы мероприятия;\n",
    "- `region_name` — название региона;\n",
    "- `city_name` — название города;\n",
    "- `venue_id` — уникальный идентификатор площадки;\n",
    "- `venue_name` — название площадки;\n",
    "- `venue_address` — адрес площадки.\n",
    "\n",
    "Еще один датасет содержит информацию о валютном курсе тенге к российскому рублю - `final_tickets_tenge_df.csv`.\n",
    "- `data` — дата;\n",
    "- `nominal` — номинал (100 тенге);\n",
    "- `curs` — курс тенге к рублю;\n",
    "- `cdx` — обозначение валюты (kzt).\n",
    "\n",
    "\n",
    "**Содержание проекта:**\n",
    "\n",
    "1. Знакомство с данными\n",
    "2. Предобработка данных\n",
    "    1. Проверка на пропуски\n",
    "    2. Проверка корректности категориальных данных и поиск аномалий\n",
    "    3. Проверка на явные и неявные дубли\n",
    "    4. Преобразование и оптимизация типов данных\n",
    "    5. Создание новых столбцов\n",
    "4. Исследовательский анализ данных\n",
    "    1. Анализ распределения заказов по сегментам и их сезонные изменения\n",
    "    2. Осенняя активность пользователей\n",
    "    3. Популярные события и партнёры\n",
    "5. Статистический анализ данных\n",
    "    1. Проверка гипотезы о равенстве среднего количества заказов различных устройств\n",
    "    2. Проверка гипотезы о равенстве среднего времени между заказами различных устройств\n",
    "6. Итоговый вывод и рекомендации"
   ]
  },
  {
   "cell_type": "markdown",
   "id": "5f7803e8-42a6-4851-8ac4-9b51374c1c51",
   "metadata": {},
   "source": [
    "## Знакомство с данными"
   ]
  },
  {
   "cell_type": "markdown",
   "id": "038d6fdd-e741-4a59-ad6b-fa36b87fc4b9",
   "metadata": {},
   "source": [
    "Для начала импортируем библиотеки для работы с данными и визуализации, а также для проведения статистического анализа. Загрузим все датасеты в переменные."
   ]
  },
  {
   "cell_type": "code",
   "execution_count": 1,
   "id": "d39dc64f-93ef-4553-835f-b4740f5fe60d",
   "metadata": {},
   "outputs": [],
   "source": [
    "import pandas as pd\n",
    "import numpy as np\n",
    "import matplotlib.pyplot as plt\n",
    "import seaborn as sns\n",
    "import scipy.stats as st\n",
    "from scipy.stats import mannwhitneyu\n",
    "import warnings \n",
    "warnings.filterwarnings('ignore')\n",
    "warnings.simplefilter('ignore')"
   ]
  },
  {
   "cell_type": "code",
   "execution_count": 2,
   "id": "c8a7b04d-350a-4394-aff5-218737a3214c",
   "metadata": {},
   "outputs": [],
   "source": [
    "df_orders = pd.read_csv('https://code.s3.yandex.net/datasets/final_tickets_orders_df.csv')\n",
    "df_events = pd.read_csv('https://code.s3.yandex.net/datasets/final_tickets_events_df.csv')\n",
    "df_kzt =  pd.read_csv('https://code.s3.yandex.net/datasets/final_tickets_tenge_df.csv')"
   ]
  },
  {
   "cell_type": "markdown",
   "id": "ec4f9b52-537e-4778-ab30-ad97a53e9de5",
   "metadata": {},
   "source": [
    "Посмотрим на данные, проверим, соответствуют ли они описанию, какие есть проблемы в данных, предварительно определим, что необходимо сделать на этапе предобработки"
   ]
  },
  {
   "cell_type": "code",
   "execution_count": 3,
   "id": "4cd8eef7-79a0-42da-a337-05fd64c74648",
   "metadata": {},
   "outputs": [
    {
     "data": {
      "text/html": [
       "<div>\n",
       "<style scoped>\n",
       "    .dataframe tbody tr th:only-of-type {\n",
       "        vertical-align: middle;\n",
       "    }\n",
       "\n",
       "    .dataframe tbody tr th {\n",
       "        vertical-align: top;\n",
       "    }\n",
       "\n",
       "    .dataframe thead th {\n",
       "        text-align: right;\n",
       "    }\n",
       "</style>\n",
       "<table border=\"1\" class=\"dataframe\">\n",
       "  <thead>\n",
       "    <tr style=\"text-align: right;\">\n",
       "      <th></th>\n",
       "      <th>order_id</th>\n",
       "      <th>user_id</th>\n",
       "      <th>created_dt_msk</th>\n",
       "      <th>created_ts_msk</th>\n",
       "      <th>event_id</th>\n",
       "      <th>cinema_circuit</th>\n",
       "      <th>age_limit</th>\n",
       "      <th>currency_code</th>\n",
       "      <th>device_type_canonical</th>\n",
       "      <th>revenue</th>\n",
       "      <th>service_name</th>\n",
       "      <th>tickets_count</th>\n",
       "      <th>total</th>\n",
       "      <th>days_since_prev</th>\n",
       "    </tr>\n",
       "  </thead>\n",
       "  <tbody>\n",
       "    <tr>\n",
       "      <th>0</th>\n",
       "      <td>4359165</td>\n",
       "      <td>0002849b70a3ce2</td>\n",
       "      <td>2024-08-20</td>\n",
       "      <td>2024-08-20 16:08:03</td>\n",
       "      <td>169230</td>\n",
       "      <td>нет</td>\n",
       "      <td>16</td>\n",
       "      <td>rub</td>\n",
       "      <td>mobile</td>\n",
       "      <td>1521.94</td>\n",
       "      <td>Край билетов</td>\n",
       "      <td>4</td>\n",
       "      <td>10870.99</td>\n",
       "      <td>NaN</td>\n",
       "    </tr>\n",
       "    <tr>\n",
       "      <th>1</th>\n",
       "      <td>7965605</td>\n",
       "      <td>0005ca5e93f2cf4</td>\n",
       "      <td>2024-07-23</td>\n",
       "      <td>2024-07-23 18:36:24</td>\n",
       "      <td>237325</td>\n",
       "      <td>нет</td>\n",
       "      <td>0</td>\n",
       "      <td>rub</td>\n",
       "      <td>mobile</td>\n",
       "      <td>289.45</td>\n",
       "      <td>Мой билет</td>\n",
       "      <td>2</td>\n",
       "      <td>2067.51</td>\n",
       "      <td>NaN</td>\n",
       "    </tr>\n",
       "    <tr>\n",
       "      <th>2</th>\n",
       "      <td>7292370</td>\n",
       "      <td>0005ca5e93f2cf4</td>\n",
       "      <td>2024-10-06</td>\n",
       "      <td>2024-10-06 13:56:02</td>\n",
       "      <td>578454</td>\n",
       "      <td>нет</td>\n",
       "      <td>0</td>\n",
       "      <td>rub</td>\n",
       "      <td>mobile</td>\n",
       "      <td>1258.57</td>\n",
       "      <td>За билетом!</td>\n",
       "      <td>4</td>\n",
       "      <td>13984.16</td>\n",
       "      <td>75.0</td>\n",
       "    </tr>\n",
       "    <tr>\n",
       "      <th>3</th>\n",
       "      <td>1139875</td>\n",
       "      <td>000898990054619</td>\n",
       "      <td>2024-07-13</td>\n",
       "      <td>2024-07-13 19:40:48</td>\n",
       "      <td>387271</td>\n",
       "      <td>нет</td>\n",
       "      <td>0</td>\n",
       "      <td>rub</td>\n",
       "      <td>mobile</td>\n",
       "      <td>8.49</td>\n",
       "      <td>Лови билет!</td>\n",
       "      <td>2</td>\n",
       "      <td>212.28</td>\n",
       "      <td>NaN</td>\n",
       "    </tr>\n",
       "    <tr>\n",
       "      <th>4</th>\n",
       "      <td>972400</td>\n",
       "      <td>000898990054619</td>\n",
       "      <td>2024-10-04</td>\n",
       "      <td>2024-10-04 22:33:15</td>\n",
       "      <td>509453</td>\n",
       "      <td>нет</td>\n",
       "      <td>18</td>\n",
       "      <td>rub</td>\n",
       "      <td>mobile</td>\n",
       "      <td>1390.41</td>\n",
       "      <td>Билеты без проблем</td>\n",
       "      <td>3</td>\n",
       "      <td>10695.43</td>\n",
       "      <td>83.0</td>\n",
       "    </tr>\n",
       "  </tbody>\n",
       "</table>\n",
       "</div>"
      ],
      "text/plain": [
       "   order_id          user_id created_dt_msk       created_ts_msk  event_id  \\\n",
       "0   4359165  0002849b70a3ce2     2024-08-20  2024-08-20 16:08:03    169230   \n",
       "1   7965605  0005ca5e93f2cf4     2024-07-23  2024-07-23 18:36:24    237325   \n",
       "2   7292370  0005ca5e93f2cf4     2024-10-06  2024-10-06 13:56:02    578454   \n",
       "3   1139875  000898990054619     2024-07-13  2024-07-13 19:40:48    387271   \n",
       "4    972400  000898990054619     2024-10-04  2024-10-04 22:33:15    509453   \n",
       "\n",
       "  cinema_circuit  age_limit currency_code device_type_canonical  revenue  \\\n",
       "0            нет         16           rub                mobile  1521.94   \n",
       "1            нет          0           rub                mobile   289.45   \n",
       "2            нет          0           rub                mobile  1258.57   \n",
       "3            нет          0           rub                mobile     8.49   \n",
       "4            нет         18           rub                mobile  1390.41   \n",
       "\n",
       "         service_name  tickets_count     total  days_since_prev  \n",
       "0        Край билетов              4  10870.99              NaN  \n",
       "1           Мой билет              2   2067.51              NaN  \n",
       "2         За билетом!              4  13984.16             75.0  \n",
       "3         Лови билет!              2    212.28              NaN  \n",
       "4  Билеты без проблем              3  10695.43             83.0  "
      ]
     },
     "metadata": {},
     "output_type": "display_data"
    }
   ],
   "source": [
    "display(df_orders.head(5))"
   ]
  },
  {
   "cell_type": "code",
   "execution_count": 4,
   "id": "b9ad9c87-692d-4cf0-8bf7-5903854eb746",
   "metadata": {},
   "outputs": [
    {
     "name": "stdout",
     "output_type": "stream",
     "text": [
      "<class 'pandas.core.frame.DataFrame'>\n",
      "RangeIndex: 290849 entries, 0 to 290848\n",
      "Data columns (total 14 columns):\n",
      " #   Column                 Non-Null Count   Dtype  \n",
      "---  ------                 --------------   -----  \n",
      " 0   order_id               290849 non-null  int64  \n",
      " 1   user_id                290849 non-null  object \n",
      " 2   created_dt_msk         290849 non-null  object \n",
      " 3   created_ts_msk         290849 non-null  object \n",
      " 4   event_id               290849 non-null  int64  \n",
      " 5   cinema_circuit         290849 non-null  object \n",
      " 6   age_limit              290849 non-null  int64  \n",
      " 7   currency_code          290849 non-null  object \n",
      " 8   device_type_canonical  290849 non-null  object \n",
      " 9   revenue                290849 non-null  float64\n",
      " 10  service_name           290849 non-null  object \n",
      " 11  tickets_count          290849 non-null  int64  \n",
      " 12  total                  290849 non-null  float64\n",
      " 13  days_since_prev        268909 non-null  float64\n",
      "dtypes: float64(3), int64(4), object(7)\n",
      "memory usage: 31.1+ MB\n"
     ]
    }
   ],
   "source": [
    "df_orders.info()"
   ]
  },
  {
   "cell_type": "markdown",
   "id": "3c360dbd-af3e-45eb-87af-b26bfade94ae",
   "metadata": {},
   "source": [
    "Всего в датафрейме **290 849** строк и **14** столбцов. Все столбцы, кроме `days_since_prev`, без пропусков, что не потребует дальнейшей обработки. Столбец `days_since_prev` не заполняем, так как понятна закономерность для появления пропусков. Столбец `created_dt_msk` не приведен к типу даты, `days_since_prev` представлен в виде числа с плавающей точкой, что тоже странно, больше подойдет `integer`. Остальные числовые столбцы можно оптимизировать (уменьшим разрядность). Так в общем данные соответствуют описанию.\n",
    "\n",
    "Переходим к следующему датафрейму:"
   ]
  },
  {
   "cell_type": "code",
   "execution_count": 5,
   "id": "9ca6d9a6-b203-4ef6-bbb2-aa681c0dce85",
   "metadata": {},
   "outputs": [
    {
     "data": {
      "text/html": [
       "<div>\n",
       "<style scoped>\n",
       "    .dataframe tbody tr th:only-of-type {\n",
       "        vertical-align: middle;\n",
       "    }\n",
       "\n",
       "    .dataframe tbody tr th {\n",
       "        vertical-align: top;\n",
       "    }\n",
       "\n",
       "    .dataframe thead th {\n",
       "        text-align: right;\n",
       "    }\n",
       "</style>\n",
       "<table border=\"1\" class=\"dataframe\">\n",
       "  <thead>\n",
       "    <tr style=\"text-align: right;\">\n",
       "      <th></th>\n",
       "      <th>event_id</th>\n",
       "      <th>event_name</th>\n",
       "      <th>event_type_description</th>\n",
       "      <th>event_type_main</th>\n",
       "      <th>organizers</th>\n",
       "      <th>region_name</th>\n",
       "      <th>city_name</th>\n",
       "      <th>city_id</th>\n",
       "      <th>venue_id</th>\n",
       "      <th>venue_name</th>\n",
       "      <th>venue_address</th>\n",
       "    </tr>\n",
       "  </thead>\n",
       "  <tbody>\n",
       "    <tr>\n",
       "      <th>0</th>\n",
       "      <td>4436</td>\n",
       "      <td>e4f26fba-da77-4c61-928a-6c3e434d793f</td>\n",
       "      <td>спектакль</td>\n",
       "      <td>театр</td>\n",
       "      <td>№4893</td>\n",
       "      <td>Североярская область</td>\n",
       "      <td>Озёрск</td>\n",
       "      <td>2</td>\n",
       "      <td>1600</td>\n",
       "      <td>Кладбище искусств \"Проблема\" и партнеры</td>\n",
       "      <td>наб. Загородная, д. 785</td>\n",
       "    </tr>\n",
       "    <tr>\n",
       "      <th>1</th>\n",
       "      <td>5785</td>\n",
       "      <td>5cc08a60-fdea-4186-9bb2-bffc3603fb77</td>\n",
       "      <td>спектакль</td>\n",
       "      <td>театр</td>\n",
       "      <td>№1931</td>\n",
       "      <td>Светополянский округ</td>\n",
       "      <td>Глиноград</td>\n",
       "      <td>54</td>\n",
       "      <td>2196</td>\n",
       "      <td>Лекции по искусству \"Свет\" Групп</td>\n",
       "      <td>ул. Ягодная, д. 942</td>\n",
       "    </tr>\n",
       "    <tr>\n",
       "      <th>2</th>\n",
       "      <td>8817</td>\n",
       "      <td>8e379a89-3a10-4811-ba06-ec22ebebe989</td>\n",
       "      <td>спектакль</td>\n",
       "      <td>театр</td>\n",
       "      <td>№4896</td>\n",
       "      <td>Североярская область</td>\n",
       "      <td>Озёрск</td>\n",
       "      <td>2</td>\n",
       "      <td>4043</td>\n",
       "      <td>Кинокомитет \"Золотая\" Инк</td>\n",
       "      <td>ш. Коммуны, д. 92 стр. 6</td>\n",
       "    </tr>\n",
       "    <tr>\n",
       "      <th>3</th>\n",
       "      <td>8849</td>\n",
       "      <td>682e3129-6a32-4952-9d8a-ef7f60d4c247</td>\n",
       "      <td>спектакль</td>\n",
       "      <td>театр</td>\n",
       "      <td>№4960</td>\n",
       "      <td>Каменевский регион</td>\n",
       "      <td>Глиногорск</td>\n",
       "      <td>213</td>\n",
       "      <td>1987</td>\n",
       "      <td>Выставка ремесел \"Свет\" Лтд</td>\n",
       "      <td>пер. Набережный, д. 35</td>\n",
       "    </tr>\n",
       "    <tr>\n",
       "      <th>4</th>\n",
       "      <td>8850</td>\n",
       "      <td>d6e99176-c77f-4af0-9222-07c571f6c624</td>\n",
       "      <td>спектакль</td>\n",
       "      <td>театр</td>\n",
       "      <td>№4770</td>\n",
       "      <td>Лесодальний край</td>\n",
       "      <td>Родниковец</td>\n",
       "      <td>55</td>\n",
       "      <td>4230</td>\n",
       "      <td>Фестивальный проект \"Листья\" Групп</td>\n",
       "      <td>пер. Проезжий, д. 9</td>\n",
       "    </tr>\n",
       "  </tbody>\n",
       "</table>\n",
       "</div>"
      ],
      "text/plain": [
       "   event_id                            event_name event_type_description  \\\n",
       "0      4436  e4f26fba-da77-4c61-928a-6c3e434d793f              спектакль   \n",
       "1      5785  5cc08a60-fdea-4186-9bb2-bffc3603fb77              спектакль   \n",
       "2      8817  8e379a89-3a10-4811-ba06-ec22ebebe989              спектакль   \n",
       "3      8849  682e3129-6a32-4952-9d8a-ef7f60d4c247              спектакль   \n",
       "4      8850  d6e99176-c77f-4af0-9222-07c571f6c624              спектакль   \n",
       "\n",
       "  event_type_main organizers           region_name   city_name  city_id  \\\n",
       "0           театр      №4893  Североярская область      Озёрск        2   \n",
       "1           театр      №1931  Светополянский округ   Глиноград       54   \n",
       "2           театр      №4896  Североярская область      Озёрск        2   \n",
       "3           театр      №4960    Каменевский регион  Глиногорск      213   \n",
       "4           театр      №4770      Лесодальний край  Родниковец       55   \n",
       "\n",
       "   venue_id                               venue_name             venue_address  \n",
       "0      1600  Кладбище искусств \"Проблема\" и партнеры   наб. Загородная, д. 785  \n",
       "1      2196         Лекции по искусству \"Свет\" Групп       ул. Ягодная, д. 942  \n",
       "2      4043                Кинокомитет \"Золотая\" Инк  ш. Коммуны, д. 92 стр. 6  \n",
       "3      1987              Выставка ремесел \"Свет\" Лтд    пер. Набережный, д. 35  \n",
       "4      4230       Фестивальный проект \"Листья\" Групп       пер. Проезжий, д. 9  "
      ]
     },
     "metadata": {},
     "output_type": "display_data"
    }
   ],
   "source": [
    "display(df_events.head(5))"
   ]
  },
  {
   "cell_type": "code",
   "execution_count": 6,
   "id": "2367939e-be90-4720-9741-dc3f36e8d8ec",
   "metadata": {},
   "outputs": [
    {
     "name": "stdout",
     "output_type": "stream",
     "text": [
      "<class 'pandas.core.frame.DataFrame'>\n",
      "RangeIndex: 22427 entries, 0 to 22426\n",
      "Data columns (total 11 columns):\n",
      " #   Column                  Non-Null Count  Dtype \n",
      "---  ------                  --------------  ----- \n",
      " 0   event_id                22427 non-null  int64 \n",
      " 1   event_name              22427 non-null  object\n",
      " 2   event_type_description  22427 non-null  object\n",
      " 3   event_type_main         22427 non-null  object\n",
      " 4   organizers              22427 non-null  object\n",
      " 5   region_name             22427 non-null  object\n",
      " 6   city_name               22427 non-null  object\n",
      " 7   city_id                 22427 non-null  int64 \n",
      " 8   venue_id                22427 non-null  int64 \n",
      " 9   venue_name              22427 non-null  object\n",
      " 10  venue_address           22427 non-null  object\n",
      "dtypes: int64(3), object(8)\n",
      "memory usage: 1.9+ MB\n"
     ]
    }
   ],
   "source": [
    "df_events.info()"
   ]
  },
  {
   "cell_type": "markdown",
   "id": "8f774c64-311e-4bf2-9cb4-83b6d1a8c7ae",
   "metadata": {},
   "source": [
    "В таблице **22 427** строк и **11** столбцов. В столбцах нет пропусков. Все типы данных корректные. Возможно следует сделать также оптимизацию числовых данных. Данные соответствуют описанию.\n",
    "\n",
    "Переходим к последнему, больше справочному датасету: "
   ]
  },
  {
   "cell_type": "code",
   "execution_count": 7,
   "id": "8bfc7ab7-7055-4dca-b6e7-f1421a1385a0",
   "metadata": {},
   "outputs": [
    {
     "data": {
      "text/html": [
       "<div>\n",
       "<style scoped>\n",
       "    .dataframe tbody tr th:only-of-type {\n",
       "        vertical-align: middle;\n",
       "    }\n",
       "\n",
       "    .dataframe tbody tr th {\n",
       "        vertical-align: top;\n",
       "    }\n",
       "\n",
       "    .dataframe thead th {\n",
       "        text-align: right;\n",
       "    }\n",
       "</style>\n",
       "<table border=\"1\" class=\"dataframe\">\n",
       "  <thead>\n",
       "    <tr style=\"text-align: right;\">\n",
       "      <th></th>\n",
       "      <th>data</th>\n",
       "      <th>nominal</th>\n",
       "      <th>curs</th>\n",
       "      <th>cdx</th>\n",
       "    </tr>\n",
       "  </thead>\n",
       "  <tbody>\n",
       "    <tr>\n",
       "      <th>0</th>\n",
       "      <td>2024-01-10</td>\n",
       "      <td>100</td>\n",
       "      <td>19.9391</td>\n",
       "      <td>kzt</td>\n",
       "    </tr>\n",
       "    <tr>\n",
       "      <th>1</th>\n",
       "      <td>2024-01-11</td>\n",
       "      <td>100</td>\n",
       "      <td>19.7255</td>\n",
       "      <td>kzt</td>\n",
       "    </tr>\n",
       "    <tr>\n",
       "      <th>2</th>\n",
       "      <td>2024-01-12</td>\n",
       "      <td>100</td>\n",
       "      <td>19.5839</td>\n",
       "      <td>kzt</td>\n",
       "    </tr>\n",
       "    <tr>\n",
       "      <th>3</th>\n",
       "      <td>2024-01-13</td>\n",
       "      <td>100</td>\n",
       "      <td>19.4501</td>\n",
       "      <td>kzt</td>\n",
       "    </tr>\n",
       "    <tr>\n",
       "      <th>4</th>\n",
       "      <td>2024-01-14</td>\n",
       "      <td>100</td>\n",
       "      <td>19.4501</td>\n",
       "      <td>kzt</td>\n",
       "    </tr>\n",
       "  </tbody>\n",
       "</table>\n",
       "</div>"
      ],
      "text/plain": [
       "         data  nominal     curs  cdx\n",
       "0  2024-01-10      100  19.9391  kzt\n",
       "1  2024-01-11      100  19.7255  kzt\n",
       "2  2024-01-12      100  19.5839  kzt\n",
       "3  2024-01-13      100  19.4501  kzt\n",
       "4  2024-01-14      100  19.4501  kzt"
      ]
     },
     "metadata": {},
     "output_type": "display_data"
    }
   ],
   "source": [
    "display(df_kzt.head())"
   ]
  },
  {
   "cell_type": "code",
   "execution_count": 8,
   "id": "3043326b-2fbf-4e04-a2e8-8de67fe183a5",
   "metadata": {},
   "outputs": [
    {
     "name": "stdout",
     "output_type": "stream",
     "text": [
      "<class 'pandas.core.frame.DataFrame'>\n",
      "RangeIndex: 357 entries, 0 to 356\n",
      "Data columns (total 4 columns):\n",
      " #   Column   Non-Null Count  Dtype  \n",
      "---  ------   --------------  -----  \n",
      " 0   data     357 non-null    object \n",
      " 1   nominal  357 non-null    int64  \n",
      " 2   curs     357 non-null    float64\n",
      " 3   cdx      357 non-null    object \n",
      "dtypes: float64(1), int64(1), object(2)\n",
      "memory usage: 11.3+ KB\n"
     ]
    }
   ],
   "source": [
    "df_kzt.info()"
   ]
  },
  {
   "cell_type": "markdown",
   "id": "74c50095-6273-4668-ab30-a1a0250df0b5",
   "metadata": {},
   "source": [
    "Представлены данные за 2024ый год по колебаниям курса валюты. В этой таблице, как и предполагалось, нет особо никаких проблем - только нужно будет изменить тип данных у столбца с датой и также оптимизировать числовые столбцы. Данные тоже соответствуют описанию. \n",
    "\n",
    "**Общие рекомендации для каждого датафрейма:**\n",
    "- `df_orders` - изменить типы данных у столбцов, оптимизировать числовые столбцы, дополнительно проверить категориальные данные, корректность их написания\n",
    "- `df_events` - оптимизировать числовые столбцы, дополнительно проверить категориальные данные, корректность их написания\n",
    "- `df_kzt` - изменить тип данных у столбца с датой, оптимизировать числовые столбцы\n",
    "\n",
    "Также каждый датафрейм пройдет проверку на дубли (явные и неявные), анализ количественных столбцов для выявления аномалий и выбросов. Рассчитаны дополнительные показатели и категорийные столбцы для последующего анализа."
   ]
  },
  {
   "cell_type": "markdown",
   "id": "5b36010c-f3e1-49d8-ac43-4a375473c75a",
   "metadata": {},
   "source": [
    "## Предобработка данных"
   ]
  },
  {
   "cell_type": "markdown",
   "id": "ba061359-f1cd-43b5-9fd6-a3e82520e3b4",
   "metadata": {},
   "source": [
    "### Проверка на пропуски"
   ]
  },
  {
   "cell_type": "markdown",
   "id": "328933dc-71a4-426d-9f53-157818ddd499",
   "metadata": {},
   "source": [
    "Для более удобной предобработки объединим два датафрейма `df_orders` и `df_events`"
   ]
  },
  {
   "cell_type": "code",
   "execution_count": 9,
   "id": "4fb8c902-91cf-4e76-a05c-ad136c2132a5",
   "metadata": {},
   "outputs": [],
   "source": [
    "df = df_orders.merge(df_events, on='event_id')"
   ]
  },
  {
   "cell_type": "markdown",
   "id": "9fb95323-75fc-4c1b-ba48-945925b9bd0a",
   "metadata": {},
   "source": [
    "Посмотрим на количество строк в результатирующем датафрейме и сравним его с количеством строк в датафрейме с заказами (так как он был самым многочисленным по данным):"
   ]
  },
  {
   "cell_type": "code",
   "execution_count": 10,
   "id": "6acc330f-923a-4a76-a4ba-33313fac14f9",
   "metadata": {},
   "outputs": [
    {
     "name": "stdout",
     "output_type": "stream",
     "text": [
      "В изначальном датафрейме с заказами - 290849 строк\n",
      "В финальном датафрейме - 290611 строк\n",
      "Разница составляет 238 строк\n",
      "Доля утерянных строк - 0.08%\n",
      "Потерянная выручка составила - 3084.81\n"
     ]
    }
   ],
   "source": [
    "print(f'В изначальном датафрейме с заказами - {df_orders.shape[0]} строк')\n",
    "print(f'В финальном датафрейме - {df.shape[0]} строк')\n",
    "print(f'Разница составляет {df_orders.shape[0] - df.shape[0]} строк')\n",
    "print(f'Доля утерянных строк - {(df_orders.shape[0] - df.shape[0]) / df_orders.shape[0]:.2%}')\n",
    "\n",
    "lost_revenue = df_orders['revenue'].sum() - df['revenue'].sum()\n",
    "print(f'Потерянная выручка составила - {lost_revenue:.2f}')"
   ]
  },
  {
   "cell_type": "markdown",
   "id": "e2fa059f-93c3-430a-9410-55b151b1225e",
   "metadata": {},
   "source": [
    "Доля строк, которые были потеряны при объединении двух датафреймов невелика - меньше 0,1%. Более того, утерянная выручка составила около 3100 рублей, что также некритично для общей суммы. Переходим к проверке категориальных данных"
   ]
  },
  {
   "cell_type": "markdown",
   "id": "7b4a32f1-a00a-4f42-9727-f3fff5440447",
   "metadata": {},
   "source": [
    "### Проверка корректности категориальных данных и поиск аномалий"
   ]
  },
  {
   "cell_type": "markdown",
   "id": "d84f38b0-d77f-4aad-a26e-e4ade2c989ad",
   "metadata": {},
   "source": [
    "В итоговом датафрейме для проверки корректности категориальных данных нас интересует 9 столбцов: `cinema_curcuit`, `currency_code`, `device_type_canonnical`, `service_name`, `event_type_description`, `event_type_main`, `region_name`, `city_name`, `venue_name`. Для начала оценим, сколько уникальных значений в каждом столбце:"
   ]
  },
  {
   "cell_type": "code",
   "execution_count": 11,
   "id": "f260e99f-24e0-4351-b30e-138fff0bf95e",
   "metadata": {},
   "outputs": [
    {
     "name": "stdout",
     "output_type": "stream",
     "text": [
      "В столбце cinema_circuit - 6 уникальных категориальных значений\n",
      "В столбце currency_code - 2 уникальных категориальных значений\n",
      "В столбце device_type_canonical - 2 уникальных категориальных значений\n",
      "В столбце service_name - 36 уникальных категориальных значений\n",
      "В столбце event_type_description - 20 уникальных категориальных значений\n",
      "В столбце event_type_main - 7 уникальных категориальных значений\n",
      "В столбце region_name - 81 уникальных категориальных значений\n",
      "В столбце city_name - 352 уникальных категориальных значений\n",
      "В столбце venue_name - 3217 уникальных категориальных значений\n"
     ]
    }
   ],
   "source": [
    "for col in ['cinema_circuit', 'currency_code', 'device_type_canonical', \n",
    "            'service_name', 'event_type_description', 'event_type_main',\n",
    "            'region_name', 'city_name', 'venue_name']:\n",
    "    unique_values = df[col].nunique()\n",
    "    print(f'В столбце {col} - {unique_values} уникальных категориальных значений')"
   ]
  },
  {
   "cell_type": "markdown",
   "id": "0669bbe5-52d8-4d40-8ad3-f8afb9e53e8a",
   "metadata": {},
   "source": [
    "После оценки количества уникальных значений в этих столбцах, можно определиться со стратегией проверки корректности категориальных значений. Для столбцов `region_name`, `city_name`, `venue_name` напишем функцию для сравнения количества уникальных значений до и после нормализации и итоговым вердиктом, нужна ли нормализация в итоговом датафрейме. Для остальных будет достаточно группировки"
   ]
  },
  {
   "cell_type": "code",
   "execution_count": 12,
   "id": "1f7c3705-bcb4-451d-af85-fb5e1e1e88f0",
   "metadata": {},
   "outputs": [
    {
     "data": {
      "text/html": [
       "<div>\n",
       "<style scoped>\n",
       "    .dataframe tbody tr th:only-of-type {\n",
       "        vertical-align: middle;\n",
       "    }\n",
       "\n",
       "    .dataframe tbody tr th {\n",
       "        vertical-align: top;\n",
       "    }\n",
       "\n",
       "    .dataframe thead th {\n",
       "        text-align: right;\n",
       "    }\n",
       "</style>\n",
       "<table border=\"1\" class=\"dataframe\">\n",
       "  <thead>\n",
       "    <tr style=\"text-align: right;\">\n",
       "      <th></th>\n",
       "      <th>cinema_circuit</th>\n",
       "      <th>order_id</th>\n",
       "    </tr>\n",
       "  </thead>\n",
       "  <tbody>\n",
       "    <tr>\n",
       "      <th>0</th>\n",
       "      <td>Другое</td>\n",
       "      <td>1261</td>\n",
       "    </tr>\n",
       "    <tr>\n",
       "      <th>1</th>\n",
       "      <td>КиноСити</td>\n",
       "      <td>122</td>\n",
       "    </tr>\n",
       "    <tr>\n",
       "      <th>2</th>\n",
       "      <td>Киномакс</td>\n",
       "      <td>7</td>\n",
       "    </tr>\n",
       "    <tr>\n",
       "      <th>3</th>\n",
       "      <td>Москино</td>\n",
       "      <td>7</td>\n",
       "    </tr>\n",
       "    <tr>\n",
       "      <th>4</th>\n",
       "      <td>ЦентрФильм</td>\n",
       "      <td>1</td>\n",
       "    </tr>\n",
       "    <tr>\n",
       "      <th>5</th>\n",
       "      <td>нет</td>\n",
       "      <td>289213</td>\n",
       "    </tr>\n",
       "  </tbody>\n",
       "</table>\n",
       "</div>"
      ],
      "text/plain": [
       "  cinema_circuit  order_id\n",
       "0         Другое      1261\n",
       "1       КиноСити       122\n",
       "2       Киномакс         7\n",
       "3        Москино         7\n",
       "4     ЦентрФильм         1\n",
       "5            нет    289213"
      ]
     },
     "metadata": {},
     "output_type": "display_data"
    },
    {
     "data": {
      "text/html": [
       "<div>\n",
       "<style scoped>\n",
       "    .dataframe tbody tr th:only-of-type {\n",
       "        vertical-align: middle;\n",
       "    }\n",
       "\n",
       "    .dataframe tbody tr th {\n",
       "        vertical-align: top;\n",
       "    }\n",
       "\n",
       "    .dataframe thead th {\n",
       "        text-align: right;\n",
       "    }\n",
       "</style>\n",
       "<table border=\"1\" class=\"dataframe\">\n",
       "  <thead>\n",
       "    <tr style=\"text-align: right;\">\n",
       "      <th></th>\n",
       "      <th>currency_code</th>\n",
       "      <th>order_id</th>\n",
       "    </tr>\n",
       "  </thead>\n",
       "  <tbody>\n",
       "    <tr>\n",
       "      <th>0</th>\n",
       "      <td>kzt</td>\n",
       "      <td>5069</td>\n",
       "    </tr>\n",
       "    <tr>\n",
       "      <th>1</th>\n",
       "      <td>rub</td>\n",
       "      <td>285542</td>\n",
       "    </tr>\n",
       "  </tbody>\n",
       "</table>\n",
       "</div>"
      ],
      "text/plain": [
       "  currency_code  order_id\n",
       "0           kzt      5069\n",
       "1           rub    285542"
      ]
     },
     "metadata": {},
     "output_type": "display_data"
    },
    {
     "data": {
      "text/html": [
       "<div>\n",
       "<style scoped>\n",
       "    .dataframe tbody tr th:only-of-type {\n",
       "        vertical-align: middle;\n",
       "    }\n",
       "\n",
       "    .dataframe tbody tr th {\n",
       "        vertical-align: top;\n",
       "    }\n",
       "\n",
       "    .dataframe thead th {\n",
       "        text-align: right;\n",
       "    }\n",
       "</style>\n",
       "<table border=\"1\" class=\"dataframe\">\n",
       "  <thead>\n",
       "    <tr style=\"text-align: right;\">\n",
       "      <th></th>\n",
       "      <th>device_type_canonical</th>\n",
       "      <th>order_id</th>\n",
       "    </tr>\n",
       "  </thead>\n",
       "  <tbody>\n",
       "    <tr>\n",
       "      <th>0</th>\n",
       "      <td>desktop</td>\n",
       "      <td>58121</td>\n",
       "    </tr>\n",
       "    <tr>\n",
       "      <th>1</th>\n",
       "      <td>mobile</td>\n",
       "      <td>232490</td>\n",
       "    </tr>\n",
       "  </tbody>\n",
       "</table>\n",
       "</div>"
      ],
      "text/plain": [
       "  device_type_canonical  order_id\n",
       "0               desktop     58121\n",
       "1                mobile    232490"
      ]
     },
     "metadata": {},
     "output_type": "display_data"
    },
    {
     "data": {
      "text/html": [
       "<div>\n",
       "<style scoped>\n",
       "    .dataframe tbody tr th:only-of-type {\n",
       "        vertical-align: middle;\n",
       "    }\n",
       "\n",
       "    .dataframe tbody tr th {\n",
       "        vertical-align: top;\n",
       "    }\n",
       "\n",
       "    .dataframe thead th {\n",
       "        text-align: right;\n",
       "    }\n",
       "</style>\n",
       "<table border=\"1\" class=\"dataframe\">\n",
       "  <thead>\n",
       "    <tr style=\"text-align: right;\">\n",
       "      <th></th>\n",
       "      <th>service_name</th>\n",
       "      <th>order_id</th>\n",
       "    </tr>\n",
       "  </thead>\n",
       "  <tbody>\n",
       "    <tr>\n",
       "      <th>0</th>\n",
       "      <td>Crazy ticket!</td>\n",
       "      <td>790</td>\n",
       "    </tr>\n",
       "    <tr>\n",
       "      <th>1</th>\n",
       "      <td>Show_ticket</td>\n",
       "      <td>2200</td>\n",
       "    </tr>\n",
       "    <tr>\n",
       "      <th>2</th>\n",
       "      <td>Билет по телефону</td>\n",
       "      <td>85</td>\n",
       "    </tr>\n",
       "    <tr>\n",
       "      <th>3</th>\n",
       "      <td>Билеты без проблем</td>\n",
       "      <td>63519</td>\n",
       "    </tr>\n",
       "    <tr>\n",
       "      <th>4</th>\n",
       "      <td>Билеты в интернете</td>\n",
       "      <td>4</td>\n",
       "    </tr>\n",
       "    <tr>\n",
       "      <th>5</th>\n",
       "      <td>Билеты в руки</td>\n",
       "      <td>40343</td>\n",
       "    </tr>\n",
       "    <tr>\n",
       "      <th>6</th>\n",
       "      <td>Быстробилет</td>\n",
       "      <td>2003</td>\n",
       "    </tr>\n",
       "    <tr>\n",
       "      <th>7</th>\n",
       "      <td>Быстрый кассир</td>\n",
       "      <td>381</td>\n",
       "    </tr>\n",
       "    <tr>\n",
       "      <th>8</th>\n",
       "      <td>Весь в билетах</td>\n",
       "      <td>16849</td>\n",
       "    </tr>\n",
       "    <tr>\n",
       "      <th>9</th>\n",
       "      <td>Восьмёрка</td>\n",
       "      <td>1118</td>\n",
       "    </tr>\n",
       "    <tr>\n",
       "      <th>10</th>\n",
       "      <td>Вперёд!</td>\n",
       "      <td>80</td>\n",
       "    </tr>\n",
       "    <tr>\n",
       "      <th>11</th>\n",
       "      <td>Выступления.ру</td>\n",
       "      <td>1616</td>\n",
       "    </tr>\n",
       "    <tr>\n",
       "      <th>12</th>\n",
       "      <td>Городской дом культуры</td>\n",
       "      <td>2733</td>\n",
       "    </tr>\n",
       "    <tr>\n",
       "      <th>13</th>\n",
       "      <td>Дом культуры</td>\n",
       "      <td>4502</td>\n",
       "    </tr>\n",
       "    <tr>\n",
       "      <th>14</th>\n",
       "      <td>Дырокол</td>\n",
       "      <td>74</td>\n",
       "    </tr>\n",
       "    <tr>\n",
       "      <th>15</th>\n",
       "      <td>За билетом!</td>\n",
       "      <td>2865</td>\n",
       "    </tr>\n",
       "    <tr>\n",
       "      <th>16</th>\n",
       "      <td>Зе Бест!</td>\n",
       "      <td>5</td>\n",
       "    </tr>\n",
       "    <tr>\n",
       "      <th>17</th>\n",
       "      <td>КарандашРУ</td>\n",
       "      <td>133</td>\n",
       "    </tr>\n",
       "    <tr>\n",
       "      <th>18</th>\n",
       "      <td>Кино билет</td>\n",
       "      <td>67</td>\n",
       "    </tr>\n",
       "    <tr>\n",
       "      <th>19</th>\n",
       "      <td>Край билетов</td>\n",
       "      <td>6207</td>\n",
       "    </tr>\n",
       "    <tr>\n",
       "      <th>20</th>\n",
       "      <td>Лимоны</td>\n",
       "      <td>8</td>\n",
       "    </tr>\n",
       "    <tr>\n",
       "      <th>21</th>\n",
       "      <td>Лови билет!</td>\n",
       "      <td>41124</td>\n",
       "    </tr>\n",
       "    <tr>\n",
       "      <th>22</th>\n",
       "      <td>Лучшие билеты</td>\n",
       "      <td>17774</td>\n",
       "    </tr>\n",
       "    <tr>\n",
       "      <th>23</th>\n",
       "      <td>Мир касс</td>\n",
       "      <td>2167</td>\n",
       "    </tr>\n",
       "    <tr>\n",
       "      <th>24</th>\n",
       "      <td>Мой билет</td>\n",
       "      <td>34839</td>\n",
       "    </tr>\n",
       "    <tr>\n",
       "      <th>25</th>\n",
       "      <td>Облачко</td>\n",
       "      <td>26642</td>\n",
       "    </tr>\n",
       "    <tr>\n",
       "      <th>26</th>\n",
       "      <td>Прачечная</td>\n",
       "      <td>10273</td>\n",
       "    </tr>\n",
       "    <tr>\n",
       "      <th>27</th>\n",
       "      <td>Радио ticket</td>\n",
       "      <td>376</td>\n",
       "    </tr>\n",
       "    <tr>\n",
       "      <th>28</th>\n",
       "      <td>Реестр</td>\n",
       "      <td>125</td>\n",
       "    </tr>\n",
       "    <tr>\n",
       "      <th>29</th>\n",
       "      <td>Росбилет</td>\n",
       "      <td>539</td>\n",
       "    </tr>\n",
       "    <tr>\n",
       "      <th>30</th>\n",
       "      <td>Тебе билет!</td>\n",
       "      <td>5228</td>\n",
       "    </tr>\n",
       "    <tr>\n",
       "      <th>31</th>\n",
       "      <td>Телебилет</td>\n",
       "      <td>321</td>\n",
       "    </tr>\n",
       "    <tr>\n",
       "      <th>32</th>\n",
       "      <td>Тех билет</td>\n",
       "      <td>22</td>\n",
       "    </tr>\n",
       "    <tr>\n",
       "      <th>33</th>\n",
       "      <td>Цвет и билет</td>\n",
       "      <td>61</td>\n",
       "    </tr>\n",
       "    <tr>\n",
       "      <th>34</th>\n",
       "      <td>Шоу начинается!</td>\n",
       "      <td>499</td>\n",
       "    </tr>\n",
       "    <tr>\n",
       "      <th>35</th>\n",
       "      <td>Яблоко</td>\n",
       "      <td>5039</td>\n",
       "    </tr>\n",
       "  </tbody>\n",
       "</table>\n",
       "</div>"
      ],
      "text/plain": [
       "              service_name  order_id\n",
       "0            Crazy ticket!       790\n",
       "1              Show_ticket      2200\n",
       "2        Билет по телефону        85\n",
       "3       Билеты без проблем     63519\n",
       "4       Билеты в интернете         4\n",
       "5            Билеты в руки     40343\n",
       "6              Быстробилет      2003\n",
       "7           Быстрый кассир       381\n",
       "8           Весь в билетах     16849\n",
       "9                Восьмёрка      1118\n",
       "10                 Вперёд!        80\n",
       "11          Выступления.ру      1616\n",
       "12  Городской дом культуры      2733\n",
       "13            Дом культуры      4502\n",
       "14                 Дырокол        74\n",
       "15             За билетом!      2865\n",
       "16                Зе Бест!         5\n",
       "17              КарандашРУ       133\n",
       "18              Кино билет        67\n",
       "19            Край билетов      6207\n",
       "20                  Лимоны         8\n",
       "21             Лови билет!     41124\n",
       "22           Лучшие билеты     17774\n",
       "23                Мир касс      2167\n",
       "24               Мой билет     34839\n",
       "25                 Облачко     26642\n",
       "26               Прачечная     10273\n",
       "27            Радио ticket       376\n",
       "28                  Реестр       125\n",
       "29                Росбилет       539\n",
       "30             Тебе билет!      5228\n",
       "31               Телебилет       321\n",
       "32               Тех билет        22\n",
       "33            Цвет и билет        61\n",
       "34         Шоу начинается!       499\n",
       "35                  Яблоко      5039"
      ]
     },
     "metadata": {},
     "output_type": "display_data"
    },
    {
     "data": {
      "text/html": [
       "<div>\n",
       "<style scoped>\n",
       "    .dataframe tbody tr th:only-of-type {\n",
       "        vertical-align: middle;\n",
       "    }\n",
       "\n",
       "    .dataframe tbody tr th {\n",
       "        vertical-align: top;\n",
       "    }\n",
       "\n",
       "    .dataframe thead th {\n",
       "        text-align: right;\n",
       "    }\n",
       "</style>\n",
       "<table border=\"1\" class=\"dataframe\">\n",
       "  <thead>\n",
       "    <tr style=\"text-align: right;\">\n",
       "      <th></th>\n",
       "      <th>event_type_description</th>\n",
       "      <th>order_id</th>\n",
       "    </tr>\n",
       "  </thead>\n",
       "  <tbody>\n",
       "    <tr>\n",
       "      <th>0</th>\n",
       "      <td>балет</td>\n",
       "      <td>5998</td>\n",
       "    </tr>\n",
       "    <tr>\n",
       "      <th>1</th>\n",
       "      <td>выставка</td>\n",
       "      <td>5876</td>\n",
       "    </tr>\n",
       "    <tr>\n",
       "      <th>2</th>\n",
       "      <td>концерт</td>\n",
       "      <td>112049</td>\n",
       "    </tr>\n",
       "    <tr>\n",
       "      <th>3</th>\n",
       "      <td>кукольный спектакль</td>\n",
       "      <td>13</td>\n",
       "    </tr>\n",
       "    <tr>\n",
       "      <th>4</th>\n",
       "      <td>музыкальный спектакль</td>\n",
       "      <td>140</td>\n",
       "    </tr>\n",
       "    <tr>\n",
       "      <th>5</th>\n",
       "      <td>мюзикл</td>\n",
       "      <td>9919</td>\n",
       "    </tr>\n",
       "    <tr>\n",
       "      <th>6</th>\n",
       "      <td>опера</td>\n",
       "      <td>1314</td>\n",
       "    </tr>\n",
       "    <tr>\n",
       "      <th>7</th>\n",
       "      <td>оперетта</td>\n",
       "      <td>7</td>\n",
       "    </tr>\n",
       "    <tr>\n",
       "      <th>8</th>\n",
       "      <td>подарок</td>\n",
       "      <td>4</td>\n",
       "    </tr>\n",
       "    <tr>\n",
       "      <th>9</th>\n",
       "      <td>рок-мюзикл</td>\n",
       "      <td>1</td>\n",
       "    </tr>\n",
       "    <tr>\n",
       "      <th>10</th>\n",
       "      <td>снегурочка</td>\n",
       "      <td>3</td>\n",
       "    </tr>\n",
       "    <tr>\n",
       "      <th>11</th>\n",
       "      <td>событие</td>\n",
       "      <td>58605</td>\n",
       "    </tr>\n",
       "    <tr>\n",
       "      <th>12</th>\n",
       "      <td>спектакль</td>\n",
       "      <td>50592</td>\n",
       "    </tr>\n",
       "    <tr>\n",
       "      <th>13</th>\n",
       "      <td>спорт</td>\n",
       "      <td>12837</td>\n",
       "    </tr>\n",
       "    <tr>\n",
       "      <th>14</th>\n",
       "      <td>спортивное мероприятие</td>\n",
       "      <td>9074</td>\n",
       "    </tr>\n",
       "    <tr>\n",
       "      <th>15</th>\n",
       "      <td>фестиваль</td>\n",
       "      <td>4273</td>\n",
       "    </tr>\n",
       "    <tr>\n",
       "      <th>16</th>\n",
       "      <td>цирковое шоу</td>\n",
       "      <td>5327</td>\n",
       "    </tr>\n",
       "    <tr>\n",
       "      <th>17</th>\n",
       "      <td>шоу</td>\n",
       "      <td>13626</td>\n",
       "    </tr>\n",
       "    <tr>\n",
       "      <th>18</th>\n",
       "      <td>экскурсия</td>\n",
       "      <td>8</td>\n",
       "    </tr>\n",
       "    <tr>\n",
       "      <th>19</th>\n",
       "      <td>ёлка</td>\n",
       "      <td>945</td>\n",
       "    </tr>\n",
       "  </tbody>\n",
       "</table>\n",
       "</div>"
      ],
      "text/plain": [
       "    event_type_description  order_id\n",
       "0                    балет      5998\n",
       "1                 выставка      5876\n",
       "2                  концерт    112049\n",
       "3      кукольный спектакль        13\n",
       "4    музыкальный спектакль       140\n",
       "5                   мюзикл      9919\n",
       "6                    опера      1314\n",
       "7                 оперетта         7\n",
       "8                  подарок         4\n",
       "9               рок-мюзикл         1\n",
       "10              снегурочка         3\n",
       "11                 событие     58605\n",
       "12               спектакль     50592\n",
       "13                   спорт     12837\n",
       "14  спортивное мероприятие      9074\n",
       "15               фестиваль      4273\n",
       "16            цирковое шоу      5327\n",
       "17                     шоу     13626\n",
       "18               экскурсия         8\n",
       "19                    ёлка       945"
      ]
     },
     "metadata": {},
     "output_type": "display_data"
    },
    {
     "data": {
      "text/html": [
       "<div>\n",
       "<style scoped>\n",
       "    .dataframe tbody tr th:only-of-type {\n",
       "        vertical-align: middle;\n",
       "    }\n",
       "\n",
       "    .dataframe tbody tr th {\n",
       "        vertical-align: top;\n",
       "    }\n",
       "\n",
       "    .dataframe thead th {\n",
       "        text-align: right;\n",
       "    }\n",
       "</style>\n",
       "<table border=\"1\" class=\"dataframe\">\n",
       "  <thead>\n",
       "    <tr style=\"text-align: right;\">\n",
       "      <th></th>\n",
       "      <th>event_type_main</th>\n",
       "      <th>order_id</th>\n",
       "    </tr>\n",
       "  </thead>\n",
       "  <tbody>\n",
       "    <tr>\n",
       "      <th>0</th>\n",
       "      <td>выставки</td>\n",
       "      <td>4854</td>\n",
       "    </tr>\n",
       "    <tr>\n",
       "      <th>1</th>\n",
       "      <td>другое</td>\n",
       "      <td>65867</td>\n",
       "    </tr>\n",
       "    <tr>\n",
       "      <th>2</th>\n",
       "      <td>концерты</td>\n",
       "      <td>115276</td>\n",
       "    </tr>\n",
       "    <tr>\n",
       "      <th>3</th>\n",
       "      <td>спорт</td>\n",
       "      <td>21911</td>\n",
       "    </tr>\n",
       "    <tr>\n",
       "      <th>4</th>\n",
       "      <td>стендап</td>\n",
       "      <td>13393</td>\n",
       "    </tr>\n",
       "    <tr>\n",
       "      <th>5</th>\n",
       "      <td>театр</td>\n",
       "      <td>67321</td>\n",
       "    </tr>\n",
       "    <tr>\n",
       "      <th>6</th>\n",
       "      <td>ёлки</td>\n",
       "      <td>1989</td>\n",
       "    </tr>\n",
       "  </tbody>\n",
       "</table>\n",
       "</div>"
      ],
      "text/plain": [
       "  event_type_main  order_id\n",
       "0        выставки      4854\n",
       "1          другое     65867\n",
       "2        концерты    115276\n",
       "3           спорт     21911\n",
       "4         стендап     13393\n",
       "5           театр     67321\n",
       "6            ёлки      1989"
      ]
     },
     "metadata": {},
     "output_type": "display_data"
    }
   ],
   "source": [
    "for col in ['cinema_circuit', 'currency_code', 'device_type_canonical', \n",
    "            'service_name', 'event_type_description', 'event_type_main']:\n",
    "    display(df.groupby(col, as_index=False)['order_id'].count().sort_values(by=col))"
   ]
  },
  {
   "cell_type": "markdown",
   "id": "662ae90c-358e-4488-911a-b75607bc89ae",
   "metadata": {},
   "source": [
    "В целом можно сказать, что с категориями в этих столбцах все в порядке, с некоторыми заметками по поводу `event_type_description` и `event_type_main` - значения \"событие\" и \"другое\" имеют достаточно много заказов на счету, но сами эти значения не дают никакой информации. Получается, что большой пласт заказов не дает нам какой-либо идентификации по этим столбцам. Следует передать это команде продукта.\n",
    "\n",
    "Теперь напишем функцию для просмотра большого количества категориальных данных:"
   ]
  },
  {
   "cell_type": "code",
   "execution_count": 13,
   "id": "bc86b097-bad7-41a8-8998-25905c7115d9",
   "metadata": {},
   "outputs": [
    {
     "name": "stdout",
     "output_type": "stream",
     "text": [
      "Для столбца region_name нормализация не нужна\n",
      "Для столбца city_name нормализация не нужна\n",
      "Для столбца venue_name нормализация не нужна\n"
     ]
    }
   ],
   "source": [
    "def normalize(df, col):\n",
    "    ''' \n",
    "    Функция получает на вход:\n",
    "    - df - датафрейм, в котором нужно провести проверку, нужна ли нормализация\n",
    "    - col - столбец,  в котором нужно провести проверку, нужна ли нормализация\n",
    "    Функция подсчитывает число уникальных значений до и после нормализации, а далее\n",
    "    возвращает вердикт, сравнивая число уникальных значений в двух перечисленных случаях\n",
    "    '''\n",
    "    before_norm = df[col].nunique()\n",
    "    after_norm = df[col].str.lower().str.strip().nunique()\n",
    "    if before_norm > after_norm:\n",
    "        return 'нормализация нужна'\n",
    "    elif before_norm == after_norm:\n",
    "        return 'нормализация не нужна'\n",
    "    else:\n",
    "        return 'даже не знаю, что тут нужно тогда...'\n",
    "\n",
    "for col in ['region_name', 'city_name', 'venue_name']:\n",
    "    print(f'Для столбца {col} {normalize(df, col)}')"
   ]
  },
  {
   "cell_type": "markdown",
   "id": "642daf23-2326-4a87-bab8-3532fd05181a",
   "metadata": {},
   "source": [
    "Проверка проведена, можем двигаться дальше и рассмотреть количественные столбцы `revenue` и `tickets_count`. Посмотрим на распределение данных:"
   ]
  },
  {
   "cell_type": "code",
   "execution_count": 14,
   "id": "030ac878-c7a4-4151-8438-7d9877f42856",
   "metadata": {},
   "outputs": [
    {
     "name": "stdout",
     "output_type": "stream",
     "text": [
      "count    290611.000000\n",
      "mean        625.584360\n",
      "std        1227.693064\n",
      "min         -90.760000\n",
      "50%         356.010000\n",
      "80%         950.100000\n",
      "90%        1323.070000\n",
      "95%        1744.990000\n",
      "99%        4003.133000\n",
      "max       81174.540000\n",
      "Name: revenue, dtype: float64\n",
      "count    290611.000000\n",
      "mean          2.754311\n",
      "std           1.170620\n",
      "min           1.000000\n",
      "50%           3.000000\n",
      "80%           4.000000\n",
      "90%           4.000000\n",
      "95%           5.000000\n",
      "99%           6.000000\n",
      "max          57.000000\n",
      "Name: tickets_count, dtype: float64\n"
     ]
    }
   ],
   "source": [
    "print(df['revenue'].describe(percentiles=[.8, .9, .95, .99]))\n",
    "print(df['tickets_count'].describe(percentiles=[.8, .9, .95, .99]))"
   ]
  },
  {
   "cell_type": "markdown",
   "id": "de7a57d3-48f2-4e73-b59e-a1a6836682e1",
   "metadata": {},
   "source": [
    "Видно, что в данных явно присутствуют выбросы - средние значительно отличаются от медианы, максимальные значения тоже заоблачные. Необходимо провести фильтрацию данных по 99ому перцентилю. Но следует это сделать в разрезе валюты. После этого построим диаграммы размаха, на которых уже будет лучше видно распределение"
   ]
  },
  {
   "cell_type": "code",
   "execution_count": 15,
   "id": "44f53162-086b-4e96-8406-393881332066",
   "metadata": {},
   "outputs": [
    {
     "name": "stdout",
     "output_type": "stream",
     "text": [
      "Строк до фильтрации: 290611\n",
      "Строк после фильтрации: 283444\n"
     ]
    }
   ],
   "source": [
    "# вычисляем 99-й перцентиль по валюте\n",
    "percentiles_revenue = df.groupby('currency_code').agg(p99=('revenue', lambda x: x.quantile(0.99))).reset_index()\n",
    "percentiles_tickets = df['tickets_count'].quantile(0.99)\n",
    "\n",
    "# для каждого значения выручки теперь будет свой 99ый перцентиль по валюте\n",
    "df = df.merge(percentiles_revenue, on='currency_code', how='left')\n",
    "\n",
    "# фильтрация\n",
    "df_clean = df[df['revenue'] < df['p99']]\n",
    "df_clean = df_clean[df['tickets_count'] < percentiles_tickets]\n",
    "\n",
    "# проверка, сколько строк мы в итоге отфильтровали\n",
    "print(f'Строк до фильтрации: {df.shape[0]}')\n",
    "print(f'Строк после фильтрации: {df_clean.shape[0]}')"
   ]
  },
  {
   "cell_type": "code",
   "execution_count": 41,
   "id": "2af8afbe-7045-45e8-b6c2-19e7cd651a77",
   "metadata": {
    "scrolled": true
   },
   "outputs": [
    {
     "data": {
      "image/png": "[encoded data removed]",
      "text/plain": [
       "<Figure size 1600x800 with 2 Axes>"
      ]
     },
     "metadata": {},
     "output_type": "display_data"
    }
   ],
   "source": [
    "sns.set_style('whitegrid')\n",
    "\n",
    "fig, axes = plt.subplots(1, 2, figsize=(16, 8))\n",
    "\n",
    "sns.boxplot(x=df_clean['revenue'], y=df_clean['currency_code'], ax=axes[0], color='#fce830')\n",
    "sns.boxplot(x=df_clean['tickets_count'], y=df_clean['currency_code'], ax=axes[1], color='#fce830')\n",
    "\n",
    "axes[0].set_xlabel('Значения выручки')\n",
    "axes[0].set_ylabel('Валюта')\n",
    "\n",
    "axes[1].set_xlabel('Количество билетов в заказе')\n",
    "axes[1].set_ylabel('Валюта')\n",
    "\n",
    "fig.suptitle('Распределения по выручке и количеству билетов',  fontsize=16)\n",
    "plt.tight_layout(rect=[0, 0.03, 1, 0.95])\n",
    "plt.show()"
   ]
  },
  {
   "cell_type": "markdown",
   "id": "b6a7481d-536d-4745-9779-1face2916c7c",
   "metadata": {},
   "source": [
    "### Проверка на неявные и явные дубли"
   ]
  },
  {
   "cell_type": "markdown",
   "id": "dc2d85bf-8e70-49ba-8206-1e0f2f2d1d8c",
   "metadata": {},
   "source": [
    "Для обработки дубликатов, используем метод `duplicated()` с параметром `subset`. Для этого определим, какие строки могут нам давать дубль без учета идентификатора заказа. Точно один и тот же клиент не может совершать заказ в одно и то же время, а также при одинаковой выручке с заказа (допускаю, что может быть генерация двух заказов, где отличается стоимость билетов). Попробуем поискать дубли именно по этому сочетанию столбцов."
   ]
  },
  {
   "cell_type": "code",
   "execution_count": 17,
   "id": "d4e7a251-625b-4a22-a172-02b0d9b1a27b",
   "metadata": {},
   "outputs": [
    {
     "data": {
      "text/plain": [
       "49"
      ]
     },
     "execution_count": 17,
     "metadata": {},
     "output_type": "execute_result"
    }
   ],
   "source": [
    "df_clean.duplicated(subset=['user_id', 'created_ts_msk', 'revenue']).sum()"
   ]
  },
  {
   "cell_type": "markdown",
   "id": "9cd12427-2807-46e9-ae39-06dfb2a0fa75",
   "metadata": {},
   "source": [
    "Таких дубля 49, посмотрим на них:"
   ]
  },
  {
   "cell_type": "code",
   "execution_count": 18,
   "id": "0f578381-7c33-45e4-bf5c-53b1a59079a8",
   "metadata": {},
   "outputs": [
    {
     "data": {
      "text/html": [
       "<div>\n",
       "<style scoped>\n",
       "    .dataframe tbody tr th:only-of-type {\n",
       "        vertical-align: middle;\n",
       "    }\n",
       "\n",
       "    .dataframe tbody tr th {\n",
       "        vertical-align: top;\n",
       "    }\n",
       "\n",
       "    .dataframe thead th {\n",
       "        text-align: right;\n",
       "    }\n",
       "</style>\n",
       "<table border=\"1\" class=\"dataframe\">\n",
       "  <thead>\n",
       "    <tr style=\"text-align: right;\">\n",
       "      <th></th>\n",
       "      <th>order_id</th>\n",
       "      <th>user_id</th>\n",
       "      <th>created_dt_msk</th>\n",
       "      <th>created_ts_msk</th>\n",
       "      <th>event_id</th>\n",
       "      <th>cinema_circuit</th>\n",
       "      <th>age_limit</th>\n",
       "      <th>currency_code</th>\n",
       "      <th>device_type_canonical</th>\n",
       "      <th>revenue</th>\n",
       "      <th>...</th>\n",
       "      <th>event_type_description</th>\n",
       "      <th>event_type_main</th>\n",
       "      <th>organizers</th>\n",
       "      <th>region_name</th>\n",
       "      <th>city_name</th>\n",
       "      <th>city_id</th>\n",
       "      <th>venue_id</th>\n",
       "      <th>venue_name</th>\n",
       "      <th>venue_address</th>\n",
       "      <th>p99</th>\n",
       "    </tr>\n",
       "  </thead>\n",
       "  <tbody>\n",
       "    <tr>\n",
       "      <th>11759</th>\n",
       "      <td>1123983</td>\n",
       "      <td>06eb7897f65b433</td>\n",
       "      <td>2024-08-13</td>\n",
       "      <td>2024-08-13 16:31:07</td>\n",
       "      <td>183706</td>\n",
       "      <td>нет</td>\n",
       "      <td>18</td>\n",
       "      <td>rub</td>\n",
       "      <td>mobile</td>\n",
       "      <td>69.82</td>\n",
       "      <td>...</td>\n",
       "      <td>спектакль</td>\n",
       "      <td>театр</td>\n",
       "      <td>№1482</td>\n",
       "      <td>Светополянский округ</td>\n",
       "      <td>Глиноград</td>\n",
       "      <td>54</td>\n",
       "      <td>4443</td>\n",
       "      <td>Центр культурного наследия \"Объединение\" и пар...</td>\n",
       "      <td>бул. Карбышева, д. 50</td>\n",
       "      <td>2570.8</td>\n",
       "    </tr>\n",
       "    <tr>\n",
       "      <th>11760</th>\n",
       "      <td>1123867</td>\n",
       "      <td>06eb7897f65b433</td>\n",
       "      <td>2024-08-13</td>\n",
       "      <td>2024-08-13 16:31:07</td>\n",
       "      <td>183706</td>\n",
       "      <td>нет</td>\n",
       "      <td>18</td>\n",
       "      <td>rub</td>\n",
       "      <td>mobile</td>\n",
       "      <td>69.82</td>\n",
       "      <td>...</td>\n",
       "      <td>спектакль</td>\n",
       "      <td>театр</td>\n",
       "      <td>№1482</td>\n",
       "      <td>Светополянский округ</td>\n",
       "      <td>Глиноград</td>\n",
       "      <td>54</td>\n",
       "      <td>4443</td>\n",
       "      <td>Центр культурного наследия \"Объединение\" и пар...</td>\n",
       "      <td>бул. Карбышева, д. 50</td>\n",
       "      <td>2570.8</td>\n",
       "    </tr>\n",
       "    <tr>\n",
       "      <th>12678</th>\n",
       "      <td>5593202</td>\n",
       "      <td>08199117318954f</td>\n",
       "      <td>2024-07-31</td>\n",
       "      <td>2024-07-31 11:52:06</td>\n",
       "      <td>553623</td>\n",
       "      <td>нет</td>\n",
       "      <td>18</td>\n",
       "      <td>rub</td>\n",
       "      <td>mobile</td>\n",
       "      <td>0.00</td>\n",
       "      <td>...</td>\n",
       "      <td>событие</td>\n",
       "      <td>другое</td>\n",
       "      <td>№4549</td>\n",
       "      <td>Каменевский регион</td>\n",
       "      <td>Глиногорск</td>\n",
       "      <td>213</td>\n",
       "      <td>3474</td>\n",
       "      <td>Креативное пространство \"Вдох\" Лимитед</td>\n",
       "      <td>бул. Пригородный, д. 7/1</td>\n",
       "      <td>2570.8</td>\n",
       "    </tr>\n",
       "    <tr>\n",
       "      <th>12679</th>\n",
       "      <td>5592970</td>\n",
       "      <td>08199117318954f</td>\n",
       "      <td>2024-07-31</td>\n",
       "      <td>2024-07-31 11:52:06</td>\n",
       "      <td>553623</td>\n",
       "      <td>нет</td>\n",
       "      <td>18</td>\n",
       "      <td>rub</td>\n",
       "      <td>desktop</td>\n",
       "      <td>0.00</td>\n",
       "      <td>...</td>\n",
       "      <td>событие</td>\n",
       "      <td>другое</td>\n",
       "      <td>№4549</td>\n",
       "      <td>Каменевский регион</td>\n",
       "      <td>Глиногорск</td>\n",
       "      <td>213</td>\n",
       "      <td>3474</td>\n",
       "      <td>Креативное пространство \"Вдох\" Лимитед</td>\n",
       "      <td>бул. Пригородный, д. 7/1</td>\n",
       "      <td>2570.8</td>\n",
       "    </tr>\n",
       "    <tr>\n",
       "      <th>26868</th>\n",
       "      <td>1930705</td>\n",
       "      <td>0dc525d7bacbb0d</td>\n",
       "      <td>2024-07-31</td>\n",
       "      <td>2024-07-31 13:26:11</td>\n",
       "      <td>393430</td>\n",
       "      <td>нет</td>\n",
       "      <td>18</td>\n",
       "      <td>rub</td>\n",
       "      <td>desktop</td>\n",
       "      <td>1556.05</td>\n",
       "      <td>...</td>\n",
       "      <td>концерт</td>\n",
       "      <td>концерты</td>\n",
       "      <td>№5048</td>\n",
       "      <td>Каменевский регион</td>\n",
       "      <td>Глиногорск</td>\n",
       "      <td>213</td>\n",
       "      <td>2704</td>\n",
       "      <td>Летний фестиваль \"Симфония\" Лтд</td>\n",
       "      <td>бул. Боровой, д. 8/1 стр. 43</td>\n",
       "      <td>2570.8</td>\n",
       "    </tr>\n",
       "    <tr>\n",
       "      <th>26870</th>\n",
       "      <td>1930763</td>\n",
       "      <td>0dc525d7bacbb0d</td>\n",
       "      <td>2024-07-31</td>\n",
       "      <td>2024-07-31 13:26:11</td>\n",
       "      <td>393430</td>\n",
       "      <td>нет</td>\n",
       "      <td>18</td>\n",
       "      <td>rub</td>\n",
       "      <td>desktop</td>\n",
       "      <td>1556.05</td>\n",
       "      <td>...</td>\n",
       "      <td>концерт</td>\n",
       "      <td>концерты</td>\n",
       "      <td>№5048</td>\n",
       "      <td>Каменевский регион</td>\n",
       "      <td>Глиногорск</td>\n",
       "      <td>213</td>\n",
       "      <td>2704</td>\n",
       "      <td>Летний фестиваль \"Симфония\" Лтд</td>\n",
       "      <td>бул. Боровой, д. 8/1 стр. 43</td>\n",
       "      <td>2570.8</td>\n",
       "    </tr>\n",
       "    <tr>\n",
       "      <th>51572</th>\n",
       "      <td>5378312</td>\n",
       "      <td>1f49b8de206b285</td>\n",
       "      <td>2024-10-01</td>\n",
       "      <td>2024-10-01 11:32:40</td>\n",
       "      <td>574431</td>\n",
       "      <td>нет</td>\n",
       "      <td>0</td>\n",
       "      <td>rub</td>\n",
       "      <td>desktop</td>\n",
       "      <td>155.99</td>\n",
       "      <td>...</td>\n",
       "      <td>спорт</td>\n",
       "      <td>спорт</td>\n",
       "      <td>№1531</td>\n",
       "      <td>Медовская область</td>\n",
       "      <td>Радужсвет</td>\n",
       "      <td>47</td>\n",
       "      <td>2157</td>\n",
       "      <td>Студия дизайна \"Платформа\" Инкорпорэйтед</td>\n",
       "      <td>наб. Магистральная, д. 5</td>\n",
       "      <td>2570.8</td>\n",
       "    </tr>\n",
       "    <tr>\n",
       "      <th>51613</th>\n",
       "      <td>2968673</td>\n",
       "      <td>1f49b8de206b285</td>\n",
       "      <td>2024-10-01</td>\n",
       "      <td>2024-10-01 11:32:40</td>\n",
       "      <td>574431</td>\n",
       "      <td>нет</td>\n",
       "      <td>0</td>\n",
       "      <td>rub</td>\n",
       "      <td>mobile</td>\n",
       "      <td>155.99</td>\n",
       "      <td>...</td>\n",
       "      <td>спорт</td>\n",
       "      <td>спорт</td>\n",
       "      <td>№1531</td>\n",
       "      <td>Медовская область</td>\n",
       "      <td>Радужсвет</td>\n",
       "      <td>47</td>\n",
       "      <td>2157</td>\n",
       "      <td>Студия дизайна \"Платформа\" Инкорпорэйтед</td>\n",
       "      <td>наб. Магистральная, д. 5</td>\n",
       "      <td>2570.8</td>\n",
       "    </tr>\n",
       "    <tr>\n",
       "      <th>53680</th>\n",
       "      <td>1935113</td>\n",
       "      <td>206ea45ec11d478</td>\n",
       "      <td>2024-10-29</td>\n",
       "      <td>2024-10-29 16:46:54</td>\n",
       "      <td>442183</td>\n",
       "      <td>нет</td>\n",
       "      <td>16</td>\n",
       "      <td>rub</td>\n",
       "      <td>mobile</td>\n",
       "      <td>601.69</td>\n",
       "      <td>...</td>\n",
       "      <td>концерт</td>\n",
       "      <td>концерты</td>\n",
       "      <td>№894</td>\n",
       "      <td>Каменевский регион</td>\n",
       "      <td>Глиногорск</td>\n",
       "      <td>213</td>\n",
       "      <td>4363</td>\n",
       "      <td>Студия дизайна \"Лестница\" Лимитед</td>\n",
       "      <td>наб. Школьная, д. 9/8 стр. 7/5</td>\n",
       "      <td>2570.8</td>\n",
       "    </tr>\n",
       "    <tr>\n",
       "      <th>53682</th>\n",
       "      <td>1935171</td>\n",
       "      <td>206ea45ec11d478</td>\n",
       "      <td>2024-10-29</td>\n",
       "      <td>2024-10-29 16:46:54</td>\n",
       "      <td>442183</td>\n",
       "      <td>нет</td>\n",
       "      <td>16</td>\n",
       "      <td>rub</td>\n",
       "      <td>mobile</td>\n",
       "      <td>601.69</td>\n",
       "      <td>...</td>\n",
       "      <td>концерт</td>\n",
       "      <td>концерты</td>\n",
       "      <td>№894</td>\n",
       "      <td>Каменевский регион</td>\n",
       "      <td>Глиногорск</td>\n",
       "      <td>213</td>\n",
       "      <td>4363</td>\n",
       "      <td>Студия дизайна \"Лестница\" Лимитед</td>\n",
       "      <td>наб. Школьная, д. 9/8 стр. 7/5</td>\n",
       "      <td>2570.8</td>\n",
       "    </tr>\n",
       "  </tbody>\n",
       "</table>\n",
       "<p>10 rows × 25 columns</p>\n",
       "</div>"
      ],
      "text/plain": [
       "       order_id          user_id created_dt_msk       created_ts_msk  \\\n",
       "11759   1123983  06eb7897f65b433     2024-08-13  2024-08-13 16:31:07   \n",
       "11760   1123867  06eb7897f65b433     2024-08-13  2024-08-13 16:31:07   \n",
       "12678   5593202  08199117318954f     2024-07-31  2024-07-31 11:52:06   \n",
       "12679   5592970  08199117318954f     2024-07-31  2024-07-31 11:52:06   \n",
       "26868   1930705  0dc525d7bacbb0d     2024-07-31  2024-07-31 13:26:11   \n",
       "26870   1930763  0dc525d7bacbb0d     2024-07-31  2024-07-31 13:26:11   \n",
       "51572   5378312  1f49b8de206b285     2024-10-01  2024-10-01 11:32:40   \n",
       "51613   2968673  1f49b8de206b285     2024-10-01  2024-10-01 11:32:40   \n",
       "53680   1935113  206ea45ec11d478     2024-10-29  2024-10-29 16:46:54   \n",
       "53682   1935171  206ea45ec11d478     2024-10-29  2024-10-29 16:46:54   \n",
       "\n",
       "       event_id cinema_circuit  age_limit currency_code device_type_canonical  \\\n",
       "11759    183706            нет         18           rub                mobile   \n",
       "11760    183706            нет         18           rub                mobile   \n",
       "12678    553623            нет         18           rub                mobile   \n",
       "12679    553623            нет         18           rub               desktop   \n",
       "26868    393430            нет         18           rub               desktop   \n",
       "26870    393430            нет         18           rub               desktop   \n",
       "51572    574431            нет          0           rub               desktop   \n",
       "51613    574431            нет          0           rub                mobile   \n",
       "53680    442183            нет         16           rub                mobile   \n",
       "53682    442183            нет         16           rub                mobile   \n",
       "\n",
       "       revenue  ... event_type_description  event_type_main  organizers  \\\n",
       "11759    69.82  ...              спектакль            театр       №1482   \n",
       "11760    69.82  ...              спектакль            театр       №1482   \n",
       "12678     0.00  ...                событие           другое       №4549   \n",
       "12679     0.00  ...                событие           другое       №4549   \n",
       "26868  1556.05  ...                концерт         концерты       №5048   \n",
       "26870  1556.05  ...                концерт         концерты       №5048   \n",
       "51572   155.99  ...                  спорт            спорт       №1531   \n",
       "51613   155.99  ...                  спорт            спорт       №1531   \n",
       "53680   601.69  ...                концерт         концерты        №894   \n",
       "53682   601.69  ...                концерт         концерты        №894   \n",
       "\n",
       "                region_name   city_name city_id venue_id  \\\n",
       "11759  Светополянский округ   Глиноград      54     4443   \n",
       "11760  Светополянский округ   Глиноград      54     4443   \n",
       "12678    Каменевский регион  Глиногорск     213     3474   \n",
       "12679    Каменевский регион  Глиногорск     213     3474   \n",
       "26868    Каменевский регион  Глиногорск     213     2704   \n",
       "26870    Каменевский регион  Глиногорск     213     2704   \n",
       "51572     Медовская область   Радужсвет      47     2157   \n",
       "51613     Медовская область   Радужсвет      47     2157   \n",
       "53680    Каменевский регион  Глиногорск     213     4363   \n",
       "53682    Каменевский регион  Глиногорск     213     4363   \n",
       "\n",
       "                                              venue_name  \\\n",
       "11759  Центр культурного наследия \"Объединение\" и пар...   \n",
       "11760  Центр культурного наследия \"Объединение\" и пар...   \n",
       "12678             Креативное пространство \"Вдох\" Лимитед   \n",
       "12679             Креативное пространство \"Вдох\" Лимитед   \n",
       "26868                    Летний фестиваль \"Симфония\" Лтд   \n",
       "26870                    Летний фестиваль \"Симфония\" Лтд   \n",
       "51572           Студия дизайна \"Платформа\" Инкорпорэйтед   \n",
       "51613           Студия дизайна \"Платформа\" Инкорпорэйтед   \n",
       "53680                  Студия дизайна \"Лестница\" Лимитед   \n",
       "53682                  Студия дизайна \"Лестница\" Лимитед   \n",
       "\n",
       "                        venue_address     p99  \n",
       "11759           бул. Карбышева, д. 50  2570.8  \n",
       "11760           бул. Карбышева, д. 50  2570.8  \n",
       "12678        бул. Пригородный, д. 7/1  2570.8  \n",
       "12679        бул. Пригородный, д. 7/1  2570.8  \n",
       "26868    бул. Боровой, д. 8/1 стр. 43  2570.8  \n",
       "26870    бул. Боровой, д. 8/1 стр. 43  2570.8  \n",
       "51572        наб. Магистральная, д. 5  2570.8  \n",
       "51613        наб. Магистральная, д. 5  2570.8  \n",
       "53680  наб. Школьная, д. 9/8 стр. 7/5  2570.8  \n",
       "53682  наб. Школьная, д. 9/8 стр. 7/5  2570.8  \n",
       "\n",
       "[10 rows x 25 columns]"
      ]
     },
     "execution_count": 18,
     "metadata": {},
     "output_type": "execute_result"
    }
   ],
   "source": [
    "df_clean[df_clean.duplicated(subset=['user_id', 'created_ts_msk', 'revenue'], keep=False)].head(10)"
   ]
  },
  {
   "cell_type": "markdown",
   "id": "373e8420-83ae-4c9e-8252-4749597829b9",
   "metadata": {},
   "source": [
    "Без учета идентификаторов заказа видно, что это полные дубли (за исключением тех, что были оформлены через другое устройство, хотя тоже странная ситуация - обычно пользователи не сидят с двух устройств и не делают заказ секунда в секунду), значит их необходимо удалить."
   ]
  },
  {
   "cell_type": "code",
   "execution_count": 19,
   "id": "ee93acbf-61ed-4bb0-b37e-0ad22ccc039c",
   "metadata": {},
   "outputs": [
    {
     "name": "stdout",
     "output_type": "stream",
     "text": [
      "Строк до удаления неявных дублей - 283444\n",
      "Строк после удаления неявных дублей - 283395\n"
     ]
    }
   ],
   "source": [
    "print(f'Строк до удаления неявных дублей - {df_clean.shape[0]}')\n",
    "\n",
    "df_clean = df_clean.drop_duplicates(subset=['user_id', 'created_ts_msk', 'revenue'])\n",
    "\n",
    "print(f'Строк после удаления неявных дублей - {df_clean.shape[0]}')"
   ]
  },
  {
   "cell_type": "markdown",
   "id": "9b713f05-ff3c-4e53-bb81-d3a3eab9d350",
   "metadata": {},
   "source": [
    "Теперь сделаем проверку на явные дубли, без выделения отдельных столбцов для проверки:"
   ]
  },
  {
   "cell_type": "code",
   "execution_count": 20,
   "id": "29cbca61-ef49-47fe-af49-059b64bc68de",
   "metadata": {},
   "outputs": [
    {
     "name": "stdout",
     "output_type": "stream",
     "text": [
      "Явных дубликатов - 0\n"
     ]
    }
   ],
   "source": [
    "print(f'Явных дубликатов - {df_clean.duplicated().sum()}')"
   ]
  },
  {
   "cell_type": "markdown",
   "id": "90e35ec2-1c7d-4a25-948e-cb5f334f2b79",
   "metadata": {},
   "source": [
    "Дубликатов нет, удалять больше ничего не нужно"
   ]
  },
  {
   "cell_type": "markdown",
   "id": "40973a92-82dd-4429-a145-79b3e771f1ef",
   "metadata": {},
   "source": [
    "### Преобразование и оптимизация типов данных"
   ]
  },
  {
   "cell_type": "markdown",
   "id": "1e3a8d78-0133-4ee2-af05-3bfe5cbb2c2a",
   "metadata": {},
   "source": [
    "Для начала переведем в нужный тип данных следующие столбцы: `days_since_prev`, `created_dt_msk`, `created_ts_msk`, `data`."
   ]
  },
  {
   "cell_type": "code",
   "execution_count": 21,
   "id": "6936f873-9f27-43f6-b205-8a8752d347f4",
   "metadata": {},
   "outputs": [],
   "source": [
    "df_clean['days_since_prev'] = df_clean['days_since_prev'].astype('Int64')\n",
    "df_clean['created_dt_msk'] = pd.to_datetime(df_clean['created_dt_msk'])\n",
    "df_clean['created_ts_msk'] = pd.to_datetime(df_clean['created_ts_msk'])\n",
    "\n",
    "df_kzt['data'] = pd.to_datetime(df_kzt['data'])"
   ]
  },
  {
   "cell_type": "markdown",
   "id": "f2d389bb-add4-486e-8204-4c964314ff2d",
   "metadata": {},
   "source": [
    "Далее уже с нужными типами данных проведем оптимизацию:"
   ]
  },
  {
   "cell_type": "code",
   "execution_count": 22,
   "id": "99f2bf1b-65b8-4a1b-bd27-464907f99745",
   "metadata": {},
   "outputs": [],
   "source": [
    "# сначала для столбцов с числами с плавающей точкой\n",
    "for col in ['revenue', 'total']:\n",
    "    df_clean[col] = pd.to_numeric(df_clean[col], downcast='float')\n",
    "\n",
    "# далее для целочисленных столбцов\n",
    "for col in ['order_id', 'event_id', 'age_limit', 'tickets_count', 'city_id', 'venue_id']:\n",
    "    df_clean[col] = pd.to_numeric(df_clean[col], downcast='integer')\n",
    "\n",
    "# отдельно для датафрейма df_kzt\n",
    "df_kzt['nominal'] = pd.to_numeric(df_kzt['nominal'], downcast='integer')\n",
    "df_kzt['curs'] = pd.to_numeric(df_kzt['curs'], downcast='float')"
   ]
  },
  {
   "cell_type": "markdown",
   "id": "6b91da6c-2d53-4ced-ae23-4d97dfecf62c",
   "metadata": {},
   "source": [
    "### Создание новых столбцов"
   ]
  },
  {
   "cell_type": "markdown",
   "id": "c669c86f-8486-4bf0-94f7-9b3a3be80486",
   "metadata": {},
   "source": [
    "В датафрейме есть заказы в валюте тенге. Для того, чтобы дальнейший анализ был корректен, создадим столбец с переведенной в рубли выручкой:"
   ]
  },
  {
   "cell_type": "code",
   "execution_count": 23,
   "id": "4886606b-1ae4-4d8b-990e-3a2970d33492",
   "metadata": {},
   "outputs": [],
   "source": [
    "# соединяем нужные данные с итоговым датафреймом\n",
    "df_clean = df_clean.merge(df_kzt, how='left', left_on=['created_dt_msk', 'currency_code'], right_on=['data', 'cdx'])\n",
    "\n",
    "# делим курс, чтобы посчитать выручку в рублях\n",
    "df_clean['curs'] = df_clean['curs'] / 100\n",
    "df_clean['revenue_rub'] = df_clean.apply(\n",
    "    lambda row: row['revenue'] * row['curs'] if row['currency_code'] == 'kzt' else row['revenue'],\n",
    "    axis=1\n",
    ")"
   ]
  },
  {
   "cell_type": "markdown",
   "id": "9c356e90-1cff-4464-8b90-647dc37bb48e",
   "metadata": {},
   "source": [
    "Также необходимо рассчитать стоимость за один билет, после того, как перевода выручку в рубли, это не составит труда:"
   ]
  },
  {
   "cell_type": "code",
   "execution_count": 24,
   "id": "39e6e935-7104-470a-ac78-808ba0687b47",
   "metadata": {},
   "outputs": [],
   "source": [
    "df_clean['one_ticket_revenue_rub'] = df_clean['revenue_rub'] / df_clean['tickets_count']"
   ]
  },
  {
   "cell_type": "markdown",
   "id": "6f1d420f-0bd2-41fe-a478-5eaad8b4323f",
   "metadata": {},
   "source": [
    "Для различных агрегаций и группировок, анализа сезонности могут пригодится столбцы с месяцем и сезоном:"
   ]
  },
  {
   "cell_type": "code",
   "execution_count": 25,
   "id": "4dda37b8-1c75-42e0-8cf0-ec6238db2321",
   "metadata": {},
   "outputs": [],
   "source": [
    "df_clean['month'] = df_clean['created_dt_msk'].dt.month"
   ]
  },
  {
   "cell_type": "code",
   "execution_count": 26,
   "id": "e5c9615f-e363-4429-badf-4abae21b048c",
   "metadata": {},
   "outputs": [],
   "source": [
    "def season(month):\n",
    "    '''\n",
    "    Функция получает на вход номер месяца, а на выходе\n",
    "    отдает название сезона, к которому относится месяц\n",
    "    '''\n",
    "    if month in [12, 1, 2]:\n",
    "        return 'зима'\n",
    "    elif month in [3, 4, 5]:\n",
    "        return 'весна'\n",
    "    elif month in [6, 7, 8]:\n",
    "        return 'лето'\n",
    "    else:\n",
    "        return 'осень'\n",
    "\n",
    "df_clean['season'] = df_clean['month'].apply(season)"
   ]
  },
  {
   "cell_type": "markdown",
   "id": "42cb636d-ac4c-41ef-aaf0-53daaedf2a15",
   "metadata": {},
   "source": [
    "**Промежуточные выводы по предобработке данных**\n",
    "\n",
    "- В результате объединения двух основных датафреймов у 238 заказов не нашлось информации по мероприятиям, что составляло меньше 0,1%, а также выручка в этих строках была незначительной (примерно 3100 рублей);\n",
    "- Категорийные данные были корректны, не было неявных дублей вследствие разного написания значений, но точно в двух столбцах есть некоторая проблема в категоризации - `event_type_description` и `event_type_main` имеют значения \"событие\" и \"другое\", что не дает нам информации для анализа, имеет смысл передать это команде продукта Яндекс.Афиша для подробной конкретизации;\n",
    "- В столбцах `revenue` и `tickets_count` были обнаружены аномалии, произведена фильтрация по 99ому перцентилю (для рублей это 2570,8, для тенге - 17617,24, а для билетов - 6), в результате фильтрации в датафрейме осталось 283 444 строки;\n",
    "- Проверка на неявные дубликаты выявила 49 дубликатов - у них совпадали время заказа, идентификатор пользователя и сумма заказа (с различными суммами заказа дублей было 164, но допущение в приобретении разных билетов в одном заказе и одним пользователем принято к сведению), они были удалены. Проверка на явные дубли не обнаружила дубликатов, в результатирующем датафрейме осталось 283 395 строк;\n",
    "- Столбцы с неподходящими типами данных приведены к типам данных соответствующим их природе, а также оптимизированы все столбцы с числовыми типами данных;\n",
    "- Созданы новые столбцы, которые в дальнейшем упростят анализ и агрегацию данных: выручка в рублях, стоимость одного билета, месяц заказа, сезон заказа.\n",
    "\n",
    "После фильтрации и очистки данных в датафрейме осталось 283 395 строк, сокращение данных составило 2,5%."
   ]
  },
  {
   "cell_type": "markdown",
   "id": "1df1f976-00dd-4858-82d9-5cb7b23ddf40",
   "metadata": {},
   "source": [
    "## Исследовательский анализ данных"
   ]
  },
  {
   "cell_type": "markdown",
   "id": "9fda5ddf-1a97-4b82-a7c7-d0cfba17dca3",
   "metadata": {},
   "source": [
    "### Анализ распределения заказов по сегментам и их сезонные изменения"
   ]
  },
  {
   "cell_type": "markdown",
   "id": "b057c31e-df93-48be-84c0-5a9621b300ac",
   "metadata": {},
   "source": [
    "Для начала посмотрим на общую динамику заказов по месяцам:"
   ]
  },
  {
   "cell_type": "code",
   "execution_count": 27,
   "id": "93b8cf7d-37bd-478e-93fa-93e9d158c939",
   "metadata": {},
   "outputs": [
    {
     "data": {
      "image/png": "[encoded data removed]",
      "text/plain": [
       "<Figure size 800x500 with 1 Axes>"
      ]
     },
     "metadata": {},
     "output_type": "display_data"
    }
   ],
   "source": [
    "plt.figure(figsize=(8, 5))\n",
    "\n",
    "sns.countplot(df_clean, x='month', color='#fce830')\n",
    "\n",
    "plt.title('Динамика количества заказов по месяцам')\n",
    "plt.xlabel('Месяц')\n",
    "plt.ylabel('Количество заказов')\n",
    "plt.show()"
   ]
  },
  {
   "cell_type": "code",
   "execution_count": 28,
   "id": "dce63c18-8738-4d73-a579-0754c5a2a0e2",
   "metadata": {},
   "outputs": [
    {
     "name": "stdout",
     "output_type": "stream",
     "text": [
      "Разница в заказах июня и октября 2024 - 190.98%\n"
     ]
    }
   ],
   "source": [
    "monthly_dynamics = df_clean.groupby('month', as_index=False)['order_id'].count()\n",
    "ratio = monthly_dynamics[monthly_dynamics['month'] == 10]['order_id'].values[0] / monthly_dynamics[monthly_dynamics['month'] == 6]['order_id'].values[0] - 1\n",
    "print(f'Разница в заказах июня и октября 2024 - {ratio:.2%}')"
   ]
  },
  {
   "cell_type": "markdown",
   "id": "37fab1b3-c9cd-4bbd-a86d-386d0bb6a4e5",
   "metadata": {},
   "source": [
    "По графику и рассчитаным значениям видно, что увеличение заказов в октябре значительно - почти в два раза. Посмотрим теперь на распределение заказов по типам мероприятия, типу устройства, возрастному рейтингу. Предварительно нам необходимо посчитать долю каждого категориального значения, чтобы при увеличении заказов в целом по сезону мы видели, что рост обусловлен именно тем, что растет конкретная категория."
   ]
  },
  {
   "cell_type": "code",
   "execution_count": 29,
   "id": "4ad406fe-f395-456b-87ff-6898c603f9fa",
   "metadata": {},
   "outputs": [],
   "source": [
    "def share_plot(df, column, title, xlabel):\n",
    "    '''\n",
    "    Функция принимает на вход:\n",
    "    - df - датафрейм, где находятся нужные данные\n",
    "    - column - столбец, по которому мы хотим посмотреть распределение в долях\n",
    "    - title - название графика\n",
    "    - xlabel - подпись для оси X\n",
    "    Функция предварительно подготавливает данные для графика: считает\n",
    "    доли нужных категорий по сезонам и выводит получившийся датафрейм, а далее строит столбчатую диаграмму\n",
    "    '''\n",
    "    # предварительная подготовка данных\n",
    "    event_share = df.groupby(['season', column], as_index=False)['order_id'].count()\n",
    "    event_share.rename(columns={'order_id': 'count'}, inplace=True)\n",
    "    event_share['total'] = event_share.groupby('season')['count'].transform('sum')\n",
    "    event_share['share'] = event_share['count'] / event_share['total']\n",
    "    display(event_share)\n",
    "\n",
    "    # построение графика\n",
    "    plt.figure(figsize=(12, 6))\n",
    "\n",
    "    sns.barplot(event_share, x=column, y='share', hue='season', palette={'лето': '#fce830', 'осень': '#f2762e'})\n",
    "\n",
    "    plt.title(title)\n",
    "    plt.xlabel(xlabel)\n",
    "    plt.ylabel('Доля заказов')\n",
    "    plt.legend(title='Сезон')\n",
    "    plt.grid(True)\n",
    "    plt.show()"
   ]
  },
  {
   "cell_type": "code",
   "execution_count": 30,
   "id": "50ffd358-2407-46c1-90d7-ffc1ba076e79",
   "metadata": {},
   "outputs": [
    {
     "data": {
      "text/html": [
       "<div>\n",
       "<style scoped>\n",
       "    .dataframe tbody tr th:only-of-type {\n",
       "        vertical-align: middle;\n",
       "    }\n",
       "\n",
       "    .dataframe tbody tr th {\n",
       "        vertical-align: top;\n",
       "    }\n",
       "\n",
       "    .dataframe thead th {\n",
       "        text-align: right;\n",
       "    }\n",
       "</style>\n",
       "<table border=\"1\" class=\"dataframe\">\n",
       "  <thead>\n",
       "    <tr style=\"text-align: right;\">\n",
       "      <th></th>\n",
       "      <th>season</th>\n",
       "      <th>event_type_main</th>\n",
       "      <th>count</th>\n",
       "      <th>total</th>\n",
       "      <th>share</th>\n",
       "    </tr>\n",
       "  </thead>\n",
       "  <tbody>\n",
       "    <tr>\n",
       "      <th>0</th>\n",
       "      <td>лето</td>\n",
       "      <td>выставки</td>\n",
       "      <td>2401</td>\n",
       "      <td>117332</td>\n",
       "      <td>0.020463</td>\n",
       "    </tr>\n",
       "    <tr>\n",
       "      <th>1</th>\n",
       "      <td>лето</td>\n",
       "      <td>другое</td>\n",
       "      <td>31705</td>\n",
       "      <td>117332</td>\n",
       "      <td>0.270216</td>\n",
       "    </tr>\n",
       "    <tr>\n",
       "      <th>2</th>\n",
       "      <td>лето</td>\n",
       "      <td>концерты</td>\n",
       "      <td>50150</td>\n",
       "      <td>117332</td>\n",
       "      <td>0.427420</td>\n",
       "    </tr>\n",
       "    <tr>\n",
       "      <th>3</th>\n",
       "      <td>лето</td>\n",
       "      <td>спорт</td>\n",
       "      <td>2923</td>\n",
       "      <td>117332</td>\n",
       "      <td>0.024912</td>\n",
       "    </tr>\n",
       "    <tr>\n",
       "      <th>4</th>\n",
       "      <td>лето</td>\n",
       "      <td>стендап</td>\n",
       "      <td>6221</td>\n",
       "      <td>117332</td>\n",
       "      <td>0.053020</td>\n",
       "    </tr>\n",
       "    <tr>\n",
       "      <th>5</th>\n",
       "      <td>лето</td>\n",
       "      <td>театр</td>\n",
       "      <td>23664</td>\n",
       "      <td>117332</td>\n",
       "      <td>0.201684</td>\n",
       "    </tr>\n",
       "    <tr>\n",
       "      <th>6</th>\n",
       "      <td>лето</td>\n",
       "      <td>ёлки</td>\n",
       "      <td>268</td>\n",
       "      <td>117332</td>\n",
       "      <td>0.002284</td>\n",
       "    </tr>\n",
       "    <tr>\n",
       "      <th>7</th>\n",
       "      <td>осень</td>\n",
       "      <td>выставки</td>\n",
       "      <td>2423</td>\n",
       "      <td>166063</td>\n",
       "      <td>0.014591</td>\n",
       "    </tr>\n",
       "    <tr>\n",
       "      <th>8</th>\n",
       "      <td>осень</td>\n",
       "      <td>другое</td>\n",
       "      <td>32563</td>\n",
       "      <td>166063</td>\n",
       "      <td>0.196088</td>\n",
       "    </tr>\n",
       "    <tr>\n",
       "      <th>9</th>\n",
       "      <td>осень</td>\n",
       "      <td>концерты</td>\n",
       "      <td>62132</td>\n",
       "      <td>166063</td>\n",
       "      <td>0.374147</td>\n",
       "    </tr>\n",
       "    <tr>\n",
       "      <th>10</th>\n",
       "      <td>осень</td>\n",
       "      <td>спорт</td>\n",
       "      <td>18379</td>\n",
       "      <td>166063</td>\n",
       "      <td>0.110675</td>\n",
       "    </tr>\n",
       "    <tr>\n",
       "      <th>11</th>\n",
       "      <td>осень</td>\n",
       "      <td>стендап</td>\n",
       "      <td>6795</td>\n",
       "      <td>166063</td>\n",
       "      <td>0.040918</td>\n",
       "    </tr>\n",
       "    <tr>\n",
       "      <th>12</th>\n",
       "      <td>осень</td>\n",
       "      <td>театр</td>\n",
       "      <td>42140</td>\n",
       "      <td>166063</td>\n",
       "      <td>0.253759</td>\n",
       "    </tr>\n",
       "    <tr>\n",
       "      <th>13</th>\n",
       "      <td>осень</td>\n",
       "      <td>ёлки</td>\n",
       "      <td>1631</td>\n",
       "      <td>166063</td>\n",
       "      <td>0.009822</td>\n",
       "    </tr>\n",
       "  </tbody>\n",
       "</table>\n",
       "</div>"
      ],
      "text/plain": [
       "   season event_type_main  count   total     share\n",
       "0    лето        выставки   2401  117332  0.020463\n",
       "1    лето          другое  31705  117332  0.270216\n",
       "2    лето        концерты  50150  117332  0.427420\n",
       "3    лето           спорт   2923  117332  0.024912\n",
       "4    лето         стендап   6221  117332  0.053020\n",
       "5    лето           театр  23664  117332  0.201684\n",
       "6    лето            ёлки    268  117332  0.002284\n",
       "7   осень        выставки   2423  166063  0.014591\n",
       "8   осень          другое  32563  166063  0.196088\n",
       "9   осень        концерты  62132  166063  0.374147\n",
       "10  осень           спорт  18379  166063  0.110675\n",
       "11  осень         стендап   6795  166063  0.040918\n",
       "12  осень           театр  42140  166063  0.253759\n",
       "13  осень            ёлки   1631  166063  0.009822"
      ]
     },
     "metadata": {},
     "output_type": "display_data"
    },
    {
     "data": {
      "image/png": "[encoded data removed]",
      "text/plain": [
       "<Figure size 1200x600 with 1 Axes>"
      ]
     },
     "metadata": {},
     "output_type": "display_data"
    }
   ],
   "source": [
    "share_plot(df_clean, 'event_type_main', 'Распределение заказов по типам событий', 'Тип события')"
   ]
  },
  {
   "cell_type": "markdown",
   "id": "5e10f75d-e426-4e40-80c1-833e0851c5a9",
   "metadata": {},
   "source": [
    "По графику видно, что рост есть в следующих типах событий: спорт почти на 8%, театр почти на 6%, елки всего лишь на 0,7%, но тренд явно проследивается. Посмотрим теперь на распределение по типу устройства"
   ]
  },
  {
   "cell_type": "code",
   "execution_count": 31,
   "id": "444edebb-4882-4494-a572-1b7af77ecf86",
   "metadata": {},
   "outputs": [
    {
     "data": {
      "text/html": [
       "<div>\n",
       "<style scoped>\n",
       "    .dataframe tbody tr th:only-of-type {\n",
       "        vertical-align: middle;\n",
       "    }\n",
       "\n",
       "    .dataframe tbody tr th {\n",
       "        vertical-align: top;\n",
       "    }\n",
       "\n",
       "    .dataframe thead th {\n",
       "        text-align: right;\n",
       "    }\n",
       "</style>\n",
       "<table border=\"1\" class=\"dataframe\">\n",
       "  <thead>\n",
       "    <tr style=\"text-align: right;\">\n",
       "      <th></th>\n",
       "      <th>season</th>\n",
       "      <th>device_type_canonical</th>\n",
       "      <th>count</th>\n",
       "      <th>total</th>\n",
       "      <th>share</th>\n",
       "    </tr>\n",
       "  </thead>\n",
       "  <tbody>\n",
       "    <tr>\n",
       "      <th>0</th>\n",
       "      <td>лето</td>\n",
       "      <td>desktop</td>\n",
       "      <td>22644</td>\n",
       "      <td>117332</td>\n",
       "      <td>0.192991</td>\n",
       "    </tr>\n",
       "    <tr>\n",
       "      <th>1</th>\n",
       "      <td>лето</td>\n",
       "      <td>mobile</td>\n",
       "      <td>94688</td>\n",
       "      <td>117332</td>\n",
       "      <td>0.807009</td>\n",
       "    </tr>\n",
       "    <tr>\n",
       "      <th>2</th>\n",
       "      <td>осень</td>\n",
       "      <td>desktop</td>\n",
       "      <td>33635</td>\n",
       "      <td>166063</td>\n",
       "      <td>0.202544</td>\n",
       "    </tr>\n",
       "    <tr>\n",
       "      <th>3</th>\n",
       "      <td>осень</td>\n",
       "      <td>mobile</td>\n",
       "      <td>132428</td>\n",
       "      <td>166063</td>\n",
       "      <td>0.797456</td>\n",
       "    </tr>\n",
       "  </tbody>\n",
       "</table>\n",
       "</div>"
      ],
      "text/plain": [
       "  season device_type_canonical   count   total     share\n",
       "0   лето               desktop   22644  117332  0.192991\n",
       "1   лето                mobile   94688  117332  0.807009\n",
       "2  осень               desktop   33635  166063  0.202544\n",
       "3  осень                mobile  132428  166063  0.797456"
      ]
     },
     "metadata": {},
     "output_type": "display_data"
    },
    {
     "data": {
      "image/png": "[encoded data removed]",
      "text/plain": [
       "<Figure size 1200x600 with 1 Axes>"
      ]
     },
     "metadata": {},
     "output_type": "display_data"
    }
   ],
   "source": [
    "share_plot(df_clean, 'device_type_canonical', 'Распределение заказов по типам устройств', 'Тип устройства')"
   ]
  },
  {
   "cell_type": "markdown",
   "id": "8a0aa0af-cbdc-411d-8413-69b3a04a8987",
   "metadata": {},
   "source": [
    "Видно очень незначительно увеличение доли заказов со стационарных устройств"
   ]
  },
  {
   "cell_type": "code",
   "execution_count": 32,
   "id": "21308934-f7fc-4721-b97f-d8c587d38ec1",
   "metadata": {},
   "outputs": [
    {
     "data": {
      "text/html": [
       "<div>\n",
       "<style scoped>\n",
       "    .dataframe tbody tr th:only-of-type {\n",
       "        vertical-align: middle;\n",
       "    }\n",
       "\n",
       "    .dataframe tbody tr th {\n",
       "        vertical-align: top;\n",
       "    }\n",
       "\n",
       "    .dataframe thead th {\n",
       "        text-align: right;\n",
       "    }\n",
       "</style>\n",
       "<table border=\"1\" class=\"dataframe\">\n",
       "  <thead>\n",
       "    <tr style=\"text-align: right;\">\n",
       "      <th></th>\n",
       "      <th>season</th>\n",
       "      <th>age_limit</th>\n",
       "      <th>count</th>\n",
       "      <th>total</th>\n",
       "      <th>share</th>\n",
       "    </tr>\n",
       "  </thead>\n",
       "  <tbody>\n",
       "    <tr>\n",
       "      <th>0</th>\n",
       "      <td>лето</td>\n",
       "      <td>0</td>\n",
       "      <td>20870</td>\n",
       "      <td>117332</td>\n",
       "      <td>0.177871</td>\n",
       "    </tr>\n",
       "    <tr>\n",
       "      <th>1</th>\n",
       "      <td>лето</td>\n",
       "      <td>6</td>\n",
       "      <td>21400</td>\n",
       "      <td>117332</td>\n",
       "      <td>0.182388</td>\n",
       "    </tr>\n",
       "    <tr>\n",
       "      <th>2</th>\n",
       "      <td>лето</td>\n",
       "      <td>12</td>\n",
       "      <td>24020</td>\n",
       "      <td>117332</td>\n",
       "      <td>0.204718</td>\n",
       "    </tr>\n",
       "    <tr>\n",
       "      <th>3</th>\n",
       "      <td>лето</td>\n",
       "      <td>16</td>\n",
       "      <td>33547</td>\n",
       "      <td>117332</td>\n",
       "      <td>0.285915</td>\n",
       "    </tr>\n",
       "    <tr>\n",
       "      <th>4</th>\n",
       "      <td>лето</td>\n",
       "      <td>18</td>\n",
       "      <td>17495</td>\n",
       "      <td>117332</td>\n",
       "      <td>0.149107</td>\n",
       "    </tr>\n",
       "    <tr>\n",
       "      <th>5</th>\n",
       "      <td>осень</td>\n",
       "      <td>0</td>\n",
       "      <td>38873</td>\n",
       "      <td>166063</td>\n",
       "      <td>0.234086</td>\n",
       "    </tr>\n",
       "    <tr>\n",
       "      <th>6</th>\n",
       "      <td>осень</td>\n",
       "      <td>6</td>\n",
       "      <td>29233</td>\n",
       "      <td>166063</td>\n",
       "      <td>0.176036</td>\n",
       "    </tr>\n",
       "    <tr>\n",
       "      <th>7</th>\n",
       "      <td>осень</td>\n",
       "      <td>12</td>\n",
       "      <td>36748</td>\n",
       "      <td>166063</td>\n",
       "      <td>0.221290</td>\n",
       "    </tr>\n",
       "    <tr>\n",
       "      <th>8</th>\n",
       "      <td>осень</td>\n",
       "      <td>16</td>\n",
       "      <td>43940</td>\n",
       "      <td>166063</td>\n",
       "      <td>0.264598</td>\n",
       "    </tr>\n",
       "    <tr>\n",
       "      <th>9</th>\n",
       "      <td>осень</td>\n",
       "      <td>18</td>\n",
       "      <td>17269</td>\n",
       "      <td>166063</td>\n",
       "      <td>0.103991</td>\n",
       "    </tr>\n",
       "  </tbody>\n",
       "</table>\n",
       "</div>"
      ],
      "text/plain": [
       "  season  age_limit  count   total     share\n",
       "0   лето          0  20870  117332  0.177871\n",
       "1   лето          6  21400  117332  0.182388\n",
       "2   лето         12  24020  117332  0.204718\n",
       "3   лето         16  33547  117332  0.285915\n",
       "4   лето         18  17495  117332  0.149107\n",
       "5  осень          0  38873  166063  0.234086\n",
       "6  осень          6  29233  166063  0.176036\n",
       "7  осень         12  36748  166063  0.221290\n",
       "8  осень         16  43940  166063  0.264598\n",
       "9  осень         18  17269  166063  0.103991"
      ]
     },
     "metadata": {},
     "output_type": "display_data"
    },
    {
     "data": {
      "image/png": "[encoded data removed]",
      "text/plain": [
       "<Figure size 1200x600 with 1 Axes>"
      ]
     },
     "metadata": {},
     "output_type": "display_data"
    }
   ],
   "source": [
    "share_plot(df_clean, 'age_limit', 'Распределение заказов по возрастным ограничениям', 'Возрастное ограничение')"
   ]
  },
  {
   "cell_type": "markdown",
   "id": "ca607c5c-8436-4254-a7f2-a39b609e83df",
   "metadata": {},
   "source": [
    "Видно увеличение категории \"0+\" - как раз скорее всего это тренд на увеличение покупок билетов на елки, небольшое увеличение заметно также в категории \"12+\" остальные возрастные ограничения наоборот уменьшились в своих долях. Возможно также это обусловлено тем, что дети вернулись от бабушек и дедушек и родители организовывают досуг для детей, приобретая различные билеты на мероприятия.\n",
    "\n",
    "Теперь же рассмотрим выручку с одного билета, как она меняется с течением времени и сезоном."
   ]
  },
  {
   "cell_type": "code",
   "execution_count": 40,
   "id": "d5669ff0-42cb-4068-8c78-ff1ebe405ce4",
   "metadata": {},
   "outputs": [
    {
     "data": {
      "image/png": "[encoded data removed]",
      "text/plain": [
       "<Figure size 1600x800 with 2 Axes>"
      ]
     },
     "metadata": {},
     "output_type": "display_data"
    }
   ],
   "source": [
    "# посчитаем относительное изменение средней стоимости билета\n",
    "seasonal_dynamics = df_clean.pivot_table(index='event_type_main', columns='season', values='one_ticket_revenue_rub', aggfunc='mean')\n",
    "seasonal_dynamics['ratio'] = (seasonal_dynamics['осень'] / seasonal_dynamics['лето'] - 1) * 100\n",
    "\n",
    "seasonal_dynamics_plot = df_clean.groupby(['event_type_main', 'season'], as_index=False)['one_ticket_revenue_rub'].mean()\n",
    "\n",
    "# построим визуализацию\n",
    "plt.figure(figsize=(16, 8))\n",
    "plt.subplot(2, 1, 1)\n",
    "sns.barplot(seasonal_dynamics_plot, \n",
    "                    x='event_type_main', \n",
    "                    y='one_ticket_revenue_rub', \n",
    "                    hue='season', \n",
    "                    palette={'лето': '#fce830', 'осень': '#f2762e'}\n",
    "           )\n",
    "plt.title('Средняя стоимость билета по типам мероприятий')\n",
    "plt.ylabel('Средняя стоимость, руб')\n",
    "plt.xlabel('Тип мероприятия')\n",
    "plt.legend(title='Сезон')\n",
    "plt.grid(True)\n",
    "\n",
    "plt.subplot(2, 1, 2)\n",
    "sns.barplot(\n",
    "    seasonal_dynamics.sort_values('ratio', ascending=False),\n",
    "    x='event_type_main',\n",
    "    y='ratio',\n",
    "    palette='coolwarm'\n",
    ")\n",
    "plt.title('Изменение по типам мероприятий в сравнении лето-осень')\n",
    "plt.ylabel('Изменение стоимости в %')\n",
    "plt.axhline(0, color='#FF7F50', linestyle='--')\n",
    "plt.xlabel('Тип мероприятия')\n",
    "\n",
    "plt.tight_layout()\n",
    "plt.show()"
   ]
  },
  {
   "cell_type": "markdown",
   "id": "a6134940-2ea9-49d6-82a6-bd446c39ec83",
   "metadata": {},
   "source": [
    "Практически все типы событий показали уменьшение среднего чека - тут может быть несколько причин, либо сами потребители делают выбор в пользу более дешевых билетов, либо же сам площадка проводит промоакции в придверии праздников и различных мероприятий. Только стэндап и выставки показали незначительное увеличение средней стоимости одного билета."
   ]
  },
  {
   "cell_type": "markdown",
   "id": "f3805bab-65a5-4040-a7eb-50c391ff1757",
   "metadata": {},
   "source": [
    "### Осенняя активность пользователей"
   ]
  },
  {
   "cell_type": "markdown",
   "id": "83e25fc2-a8b9-4c42-8994-d09b1070e422",
   "metadata": {},
   "source": [
    "Теперь рассмотрим показатели для осеннего периода, как периода, который наиболее релевантно будет отражать текущую картину и станет основой для рекомендация для периода ноябрь-декабрь 2024"
   ]
  },
  {
   "cell_type": "code",
   "execution_count": null,
   "id": "305d3272-aa26-4e74-8cc5-99a460c09666",
   "metadata": {},
   "outputs": [],
   "source": [
    "# отберем только осенние заказы\n",
    "df_autumn = df_clean[df_clean['season'] == 'осень']\n",
    "\n",
    "# сгруппируем данные по датам, чтобы оценить динамику по показателям\n",
    "df_autumn_grouped = df_autumn.groupby('created_dt_msk', as_index=False).agg(\n",
    "    orders=('order_id', 'count'),\n",
    "    dau=('user_id', 'nunique'),\n",
    "    total_revenue=('revenue_rub', 'sum'),\n",
    "    total_tickets=('tickets_count', 'sum')\n",
    ")\n",
    "\n",
    "# рассчитаем нужные столбцы\n",
    "df_autumn_grouped['avg_orders_per_user'] = round(df_autumn_grouped['orders'] / df_autumn_grouped['dau'], 2)\n",
    "df_autumn_grouped['avg_revenue_per_ticket'] = round(df_autumn_grouped['total_revenue'] / df_autumn_grouped['total_tickets'], 2)\n",
    "\n",
    "display(df_autumn_grouped.tail())"
   ]
  },
  {
   "cell_type": "code",
   "execution_count": null,
   "id": "139aedff-91f4-4d1b-a08b-01104e78793b",
   "metadata": {},
   "outputs": [],
   "source": [
    "fig, axes = plt.subplots(2, 2, figsize=(20, 12))\n",
    "axes = axes.flatten()\n",
    "\n",
    "sns.lineplot(data=df_autumn_grouped, x='created_dt_msk', y='orders', color='#fce830', ax=axes[0])\n",
    "axes[0].set_xlabel('Дата')\n",
    "axes[0].set_ylabel('Заказы')\n",
    "\n",
    "sns.lineplot(data=df_autumn_grouped, x='created_dt_msk', y='dau', color='#fce830', ax=axes[1])\n",
    "axes[1].set_xlabel('Дата')\n",
    "axes[1].set_ylabel('Уникальные пользователи')\n",
    "\n",
    "sns.lineplot(data=df_autumn_grouped, x='created_dt_msk', y='avg_orders_per_user', color='#fce830', ax=axes[2])\n",
    "axes[2].set_xlabel('Дата')\n",
    "axes[2].set_ylabel('Среднее кол-во заказов на пользователя')\n",
    "\n",
    "sns.lineplot(data=df_autumn_grouped, x='created_dt_msk', y='avg_revenue_per_ticket', color='#fce830', ax=axes[3])\n",
    "axes[3].set_xlabel('Дата')\n",
    "axes[3].set_ylabel('Средняя стоимость за один билет')\n",
    "\n",
    "fig.suptitle('Ключевые показатели осеннего периода в динамике', fontsize=16)\n",
    "plt.tight_layout()\n",
    "plt.show()"
   ]
  },
  {
   "cell_type": "markdown",
   "id": "d3e8cb61-e8de-4157-8934-048a139e3dfb",
   "metadata": {},
   "source": [
    "- По заказам видны свечки 03.09.2024, 01.10.2024, 31.10.2024, возможно в этот период были какие-то акции (чтто-то типа в первый и последний день \"3 билета по цене 2\") и это при том, что уникальных посетителей было столько же или примерно столько же\n",
    "- Устойчивый тренд на увеличение количества уникальных посетителей на площадке\n",
    "- Свечки в среднем количестве заказов на пользователяи и средней стоимости за билет совпадают со свечками по количеству заказов, только для стоимости билет обратная зависимость, чем больше заказов сделано - тем меньше стоимость одного билета\n",
    "\n",
    "Теперь сравним эти метрики в разрезе будних и выходных дней"
   ]
  },
  {
   "cell_type": "code",
   "execution_count": null,
   "id": "6af3ed12-d1e7-4468-8ed0-6fcbbf016bfb",
   "metadata": {},
   "outputs": [],
   "source": [
    "# выделим номер дня недели\n",
    "df_autumn_grouped['day_of_week'] = df_autumn_grouped['created_dt_msk'].dt.dayofweek\n",
    "\n",
    "# функция для определения типа дня: будний или выходной\n",
    "def type_of_day(day_of_week):\n",
    "    if day_of_week < 5:\n",
    "        return 'будни'\n",
    "    else:\n",
    "        return 'выходные'\n",
    "\n",
    "# используем функцию\n",
    "df_autumn_grouped['type_of_day'] = df_autumn_grouped['day_of_week'].apply(type_of_day)"
   ]
  },
  {
   "cell_type": "code",
   "execution_count": null,
   "id": "1d913491-b75e-4ce4-aae7-a89189e627f5",
   "metadata": {},
   "outputs": [],
   "source": [
    "fig, axes = plt.subplots(1, 2, figsize=(16, 8))\n",
    "\n",
    "sns.barplot(data=df_autumn_grouped, x='type_of_day', y='orders', color='#fce830', ax=axes[0], ci=None)\n",
    "axes[0].set_xlabel('Тип дня')\n",
    "axes[0].set_ylabel('Заказы')\n",
    "\n",
    "sns.barplot(data=df_autumn_grouped, x='type_of_day', y='dau', color='#fce830', ax=axes[1], ci=None)\n",
    "axes[1].set_xlabel('Тип дня')\n",
    "axes[1].set_ylabel('Уникальные пользователи')\n",
    "\n",
    "fig.suptitle('Ключевые показатели осеннего периода в сравнении будних и выходных дней', fontsize=16)\n",
    "plt.tight_layout()\n",
    "plt.show()"
   ]
  },
  {
   "cell_type": "code",
   "execution_count": null,
   "id": "ccdbd4a0-3b9e-43db-8a45-d52884bd3922",
   "metadata": {},
   "outputs": [],
   "source": [
    "fig, axes = plt.subplots(1, 2, figsize=(16, 8))\n",
    "\n",
    "sns.barplot(data=df_autumn_grouped, x='day_of_week', y='orders', color='#fce830', ax=axes[0], ci=None)\n",
    "axes[0].set_xlabel('День недели')\n",
    "axes[0].set_ylabel('Заказы')\n",
    "\n",
    "sns.barplot(data=df_autumn_grouped, x='day_of_week', y='dau', color='#fce830', ax=axes[1], ci=None)\n",
    "axes[1].set_xlabel('День недели')\n",
    "axes[1].set_ylabel('Уникальные пользователи')\n",
    "\n",
    "fig.suptitle('Ключевые показатели осеннего периода в сравнении дней недели', fontsize=16)\n",
    "plt.tight_layout()\n",
    "plt.show()"
   ]
  },
  {
   "cell_type": "markdown",
   "id": "08f497fb-0341-4282-a913-3e3859898177",
   "metadata": {},
   "source": [
    "В будни совершается больше заказов, чем в выходные. Так же как и пользователи больше заходят в сервис в будни. Это может быть обусловлено тем, что все мероприятия обычно проходят в выходные, а чтобы успеть купить билеты на них, необходимо зайти в приложение именно в будни.\n",
    "\n",
    "Больше всего заказов совершается во вторник, далее в четверг и среду, вероятно в начале и конце недели пользователям вообще не до покупки билетов - прийти бы в себя после субботы и понедельника. По уникальным пользователям примерно такая же динамика, только самый посещаемый день - четверг, остальные же дни плюс-минус в одном диапазоне. Воскресенье и понедельник при этом опять в отстающих."
   ]
  },
  {
   "cell_type": "markdown",
   "id": "0f648079-e5a0-4ebc-9d2d-9b6942582932",
   "metadata": {},
   "source": [
    "### Популярные события и партнёры"
   ]
  },
  {
   "cell_type": "markdown",
   "id": "e7172a1b-e57e-4808-905e-8841bc9c3d19",
   "metadata": {},
   "source": [
    "Исследуем, какие регионы имеют наибольшее количество уникальных мероприятий и количество заказов, а также вычислим долю для обоих показателей."
   ]
  },
  {
   "cell_type": "code",
   "execution_count": null,
   "id": "8f07980f-74dc-44cf-9e27-786295e7e772",
   "metadata": {},
   "outputs": [],
   "source": [
    "# группируем и подсчитываем данные по мероприятиям и заказам\n",
    "df_regions = df_autumn.groupby('region_name', as_index=False).agg(\n",
    "    unique_events=('event_id', 'nunique'),\n",
    "    orders=('order_id', 'count')\n",
    ")\n",
    "\n",
    "# считаем общие суммы\n",
    "df_regions['total_events'] = df_regions['unique_events'].sum()\n",
    "df_regions['total_orders'] = df_regions['orders'].sum()\n",
    "\n",
    "# вычисляем долю\n",
    "df_regions['share_events'] = df_regions['unique_events'] / df_regions['total_events']\n",
    "df_regions['share_orders'] = df_regions['orders'] / df_regions['total_orders']\n",
    "\n",
    "# оставляем только топ-5\n",
    "df_regions = df_regions.sort_values(by=['share_events', 'share_orders'], ascending=False).head(5)"
   ]
  },
  {
   "cell_type": "code",
   "execution_count": null,
   "id": "d6b1d9c4-0579-4393-857b-c5f45c8b8a93",
   "metadata": {},
   "outputs": [],
   "source": [
    "fig, axes = plt.subplots(1, 2, figsize=(16, 8))\n",
    "\n",
    "sns.barplot(data=df_regions, x='region_name', y='share_events', color='#fce830', ax=axes[0], ci=None)\n",
    "axes[0].set_xlabel('Регион')\n",
    "axes[0].set_ylabel('Доля региона в общем числе мероприятий')\n",
    "\n",
    "sns.barplot(data=df_regions, x='region_name', y='share_orders', color='#fce830', ax=axes[1], ci=None)\n",
    "axes[1].set_xlabel('Регион')\n",
    "axes[1].set_ylabel('Доля региона в общем числе заказов')\n",
    "\n",
    "for ax in axes:\n",
    "    ax.set_xticklabels(ax.get_xticklabels(), rotation=45)\n",
    "    ax.grid(True)\n",
    "\n",
    "fig.suptitle('Топ-5 регионов по количеству мероприятий и заказов', fontsize=16)\n",
    "plt.tight_layout()\n",
    "plt.show()"
   ]
  },
  {
   "cell_type": "markdown",
   "id": "8b37bcb1-20af-484a-b168-fa992eb1fba1",
   "metadata": {},
   "source": [
    "Безусловный лидер по заказам и разнообразию мероприятий - Каменевский регион, примерно 24% мероприятий и 27% заказов приходится именно на него. Далее идет Североярская область, но доля мероприятий тут уже ниже, примерно 17% и 13% заказов. Далее все остальные региноы значительно отстают от упомянутых выше, их доли меньше 5%.\n",
    "\n",
    "Перейдем к анализу партнеров:"
   ]
  },
  {
   "cell_type": "code",
   "execution_count": null,
   "id": "e16cc2b7-36dc-4cff-a183-0d3b841b5857",
   "metadata": {},
   "outputs": [],
   "source": [
    "# группируем и подсчитываем данные по мероприятиям и заказам\n",
    "df_partners = df_autumn.groupby('service_name', as_index=False).agg(\n",
    "    unique_events=('event_id', 'nunique'),\n",
    "    orders=('order_id', 'count'),\n",
    "    revenue=('revenue', 'sum')\n",
    ")\n",
    "\n",
    "# считаем общие суммы\n",
    "df_partners['total_events'] = df_partners['unique_events'].sum()\n",
    "df_partners['total_orders'] = df_partners['orders'].sum()\n",
    "df_partners['total_revenue'] = df_partners['revenue'].sum()\n",
    "\n",
    "# вычисляем долю\n",
    "df_partners['share_events'] = df_partners['unique_events'] / df_partners['total_events']\n",
    "df_partners['share_orders'] = df_partners['orders'] / df_partners['total_orders']\n",
    "df_partners['share_revenue'] = df_partners['revenue'] / df_partners['total_revenue']\n",
    "\n",
    "# оставляем только топ-10\n",
    "df_partners = df_partners.sort_values(by=['share_revenue','share_events', 'share_orders'], ascending=False).head(10)\n",
    "\n",
    "# здесь просто выведу датафрейм, потому что показателей много и визуализация будет излишней и малопонятной \n",
    "display(df_partners[['service_name', 'share_revenue', 'share_orders', 'share_events']])"
   ]
  },
  {
   "cell_type": "markdown",
   "id": "c648e62e-3411-41e3-8041-13b02b196ada",
   "metadata": {},
   "source": [
    "Самую большую долю выручки имеет партнер \"Билеты без проблем\", также он лидер и по заказам, по разнообразию мероприятий он на втором месте. Далее идет \"Мой билет\", малое количество мероприятий относительно других лидеров говорит о том, что оператор предлагает ограниченный пул мероприятий, но такой, что занимает 2ое место по выручке - возможно у него популярнее мероприятия. Оператор \"Облачко\" явно имеет средний чек выше, чем у других операторов, так как у него 3е место по выручке, но относительно скромная доля заказов.\n",
    "\n",
    "**Промежуточные выводы по исследовательскому анализу данных**\n",
    "- Общая динамика по заказам действительно показывает, что к октябрю значительно увеличились заказы - на 190%\n",
    "- Все события кроме спорта и концертов, упали в долевом отношении заказов, начали свой рост сезоннный елки\n",
    "- По типам устройств все стабильно, лишь небольшое изменение, увеличились заказы с стационарных устройств на 1%, а с мобильных соответственно уменьшились на 1%\n",
    "- В возрастных ограничениях доли снизились у всех, кроме категорий 0 и 12 лет, что говорит о смешающемся спросе в сторону детских и подростковых мероприятий\n",
    "- Осенью практически по всем типам событий (кроме стэндапов и выставок) было зафиксировано снижение стоимости одного билета, что предположительно может быть связано с акциями в придверии сезона или же потребительскими предпочтениями, смещением их интереса в сторону более дешевых билетов\n",
    "- Активность пользователей осенью увеличилась по сравнению с активностью летом, было несколько пиков по заказам, что похоже на проведение каких-то промоакций\n",
    "- Чаще всего заказы оформляют в будни, потому что скорее всего все мероприятия проходят в выходные, а билеты нужно покупать заранее. По посещениям дни-лидеры - вторник и четверг, по заказам - четверг (возможно к четвергу пользователь как раз созревает для заказа)\n",
    "- Были выделены регионы-лидеры, которые имели наибольшее количество разнообразных мероприятий и высокую выручку - это Каменевский регион с большим отрывом, Североярская область, а также Широковская область\n",
    "- Среди партнеров выделяются операторы Билеты без проблем, Мой билет, Облачко."
   ]
  },
  {
   "cell_type": "markdown",
   "id": "b4af8b9c-648a-4fc9-bf46-4ba999ff015a",
   "metadata": {},
   "source": [
    "## Статистический анализ данных"
   ]
  },
  {
   "cell_type": "markdown",
   "id": "8b46b949-e096-44b5-b6a0-39248192622a",
   "metadata": {},
   "source": [
    "Команда продукта заинтересована в проверке следующих гипотез:\n",
    "- **Среднее количество заказов на одного пользователя мобильного приложения выше** по сравнению с пользователями стационарных устройств;\n",
    "- **Среднее время между заказами пользователей мобильных приложений выше** по сравнению с пользователями стационарных устройств.\n",
    "\n",
    "Для тестирования гипотез необходимо провести проверку данных, предварительная проверка будет включать в себя:\n",
    "- пересечения в группах, очистка групп при необходимости\n",
    "- подбор теста (с опорой на распределение в выборках)\n",
    "- формулирование нулевой и альтернативной гипотез и проведение теста\n",
    "\n",
    "Начнем с проверки на пересечения в группах"
   ]
  },
  {
   "cell_type": "code",
   "execution_count": null,
   "id": "a9fdc2e2-290e-4fbf-bdb5-c73e069f1401",
   "metadata": {},
   "outputs": [],
   "source": [
    "desktop_group_users = df_autumn[df_autumn['device_type_canonical'] == 'desktop']['user_id']\n",
    "mobile_group_users = df_autumn[df_autumn['device_type_canonical'] == 'mobile']['user_id']\n",
    "\n",
    "intersection = list(set(desktop_group_users) & set(mobile_group_users))\n",
    "print(f'Размер группы стационарных устройств - {desktop_group_users.nunique()}, мобильных устройств - {mobile_group_users.nunique()}')\n",
    "print(f'Пересечения в группах: {len(intersection)}')"
   ]
  },
  {
   "cell_type": "markdown",
   "id": "27b6a069-26dc-4940-b1c4-ed10c5169404",
   "metadata": {},
   "source": [
    "В группах есть пересечения, а также пользователей стационарных устройств значительно меньше, чем пользователей мобильных устройств, тем более после очистки групп их станет еще меньше. Уже при таком условии есть предпосылка использовать тест Манна-Уитни (а также при том условии, что у нас данные распределены ненормально, что мы тоже далее проверим). А пока избавимся от пользователей, которые есть в обеих группах:"
   ]
  },
  {
   "cell_type": "code",
   "execution_count": null,
   "id": "8e1a17bd-f259-4a29-9123-2b98db231c5f",
   "metadata": {},
   "outputs": [],
   "source": [
    "desktop_group_users = desktop_group_users[~desktop_group_users.isin(intersection)]\n",
    "mobile_group_users = mobile_group_users[~mobile_group_users.isin(intersection)]\n",
    "\n",
    "print(f'Итоговый размер группы стационарных устройств - {desktop_group_users.nunique()}, мобильных устройств - {mobile_group_users.nunique()}')"
   ]
  },
  {
   "cell_type": "markdown",
   "id": "4ad5c515-5b3e-454d-b4a2-c68c79566887",
   "metadata": {},
   "source": [
    "Размеры групп после исключения пересечений сошлись, очистка прошла успешно. Теперь сформируем данные для тестирования первой гипотезы и посмотрим на распределение этих данных."
   ]
  },
  {
   "cell_type": "markdown",
   "id": "c6ae8559-124e-44a3-ba2f-2ff1e036a56b",
   "metadata": {},
   "source": [
    "### Проверка гипотезы о равенстве среднего количества заказов различных устройств"
   ]
  },
  {
   "cell_type": "markdown",
   "id": "04b987d9-0e73-42ba-b364-fede9fe13b66",
   "metadata": {},
   "source": [
    "Теперь сформируем данные для тестирования первой гипотезы и посмотрим на распределение этих данных."
   ]
  },
  {
   "cell_type": "code",
   "execution_count": null,
   "id": "7c8bf316-73a9-482b-a61c-9fb6e3a35ac4",
   "metadata": {},
   "outputs": [],
   "source": [
    "desktop_group_1 = df_autumn[df_autumn['user_id'].isin(desktop_group_users)].groupby('user_id', as_index=False).agg({'order_id': 'nunique'})\n",
    "mobile_group_1 = df_autumn[df_autumn['user_id'].isin(mobile_group_users)].groupby('user_id', as_index=False).agg({'order_id': 'nunique'})\n",
    "\n",
    "print(desktop_group_1.describe(percentiles=[.95, .99]))\n",
    "print(mobile_group_1.describe(percentiles=[.95, .99]))"
   ]
  },
  {
   "cell_type": "markdown",
   "id": "767390eb-7b25-4328-973e-10de4eb1d5e8",
   "metadata": {},
   "source": [
    "Данные имеют выбросы, это еще одна причина, по которой необходимо использовать тест Манна-Уитни, явно данные скошенны влево.\n",
    "\n",
    "Формулируем нулевую и альтернативную гипотезы для теста:\n",
    "- Н0: Среднее количество заказов на пользователя мобильных устройств **не выше** среднего количества заказов стационарных устройств\n",
    "- Н1: Среднее количество заказов на пользователя мобильных устройств **выше** среднего количества заказов стационарных устройств\n",
    "\n",
    "Проведем статистический тест"
   ]
  },
  {
   "cell_type": "code",
   "execution_count": null,
   "id": "fcfc03b1-675b-4f44-aa96-29ae3fae9065",
   "metadata": {},
   "outputs": [],
   "source": [
    "alpha = 0.05\n",
    "\n",
    "stat_test, p_value_mannwhitneyu = mannwhitneyu(\n",
    "    mobile_group_1['order_id'],\n",
    "    desktop_group_1['order_id'],\n",
    "    alternative='greater'\n",
    ")\n",
    "\n",
    "if p_value_mannwhitneyu > alpha:\n",
    "    print(f'{p_value_mannwhitneyu=:.7f}. Нулевая гипотеза не отвергается')\n",
    "else:\n",
    "    print(f'{p_value_mannwhitneyu=:.7f}. Принимаем альтернативную гипотезу')"
   ]
  },
  {
   "cell_type": "markdown",
   "id": "6334d812-b112-419b-8a7b-3ecfe767ec3a",
   "metadata": {},
   "source": [
    "Результат теста говорит о том, что у нас есть основания предполагать, что пользователи мобильных устройств покупают билетов больше."
   ]
  },
  {
   "cell_type": "markdown",
   "id": "64cd09df-4a42-484b-b98d-30c38ec59aa0",
   "metadata": {},
   "source": [
    "### Проверка гипотезы о равенстве среднего количества заказов различных устройств"
   ]
  },
  {
   "cell_type": "markdown",
   "id": "c1587f96-be0e-4df8-b831-2c8c94b0f6db",
   "metadata": {},
   "source": [
    "Для этой гипотезы нам тоже нужно предварительно сформировать выборки данных с непересекающимися пользователями и отфильтровать пропуски в столбце `days_since_prev`."
   ]
  },
  {
   "cell_type": "code",
   "execution_count": null,
   "id": "e098b059-c06b-416f-a0af-03ddba89c405",
   "metadata": {},
   "outputs": [],
   "source": [
    "desktop_group_2 = df_autumn[(df_autumn['user_id'].isin(desktop_group_users)) & (~df_autumn['days_since_prev'].isna())]\n",
    "mobile_group_2 = df_autumn[(df_autumn['user_id'].isin(mobile_group_users)) & (~df_autumn['days_since_prev'].isna())]\n",
    "\n",
    "print(desktop_group_2['days_since_prev'].describe())\n",
    "print(mobile_group_2['days_since_prev'].describe())"
   ]
  },
  {
   "cell_type": "markdown",
   "id": "ef87f0fe-6db9-457b-89ae-20596ffdb00a",
   "metadata": {},
   "source": [
    "Данные имеют выбросы, это еще одна причина, по которой необходимо использовать тест Манна-Уитни, явно данные скошенны влево.\n",
    "\n",
    "Формулируем нулевую и альтернативную гипотезы для теста:\n",
    "- Н0: Среднее время между заказами пользователей мобильных приложений **не выше** по сравнению с пользователями стационарных устройств\n",
    "- Н1: Среднее время между заказами пользователей мобильных приложений **выше** по сравнению с пользователями стационарных устройств\n",
    "\n",
    "Проведем статистический тест"
   ]
  },
  {
   "cell_type": "code",
   "execution_count": null,
   "id": "b9e5612e-f27a-49f5-a5c7-fc446ca0e13b",
   "metadata": {},
   "outputs": [],
   "source": [
    "alpha = 0.05\n",
    "\n",
    "stat_test, p_value_mannwhitneyu = mannwhitneyu(\n",
    "    mobile_group_2['days_since_prev'],\n",
    "    desktop_group_2['days_since_prev'],\n",
    "    alternative='greater'\n",
    ")\n",
    "\n",
    "if p_value_mannwhitneyu > alpha:\n",
    "    print(f'{p_value_mannwhitneyu=:.7f}. Нулевая гипотеза не отвергается')\n",
    "else:\n",
    "    print(f'{p_value_mannwhitneyu=:.7f}. Принимаем альтернативную гипотезу')"
   ]
  },
  {
   "cell_type": "markdown",
   "id": "cb24236f-493a-4cdb-92e4-555577b1a9ed",
   "metadata": {},
   "source": [
    "Здесь результат теста говорит нам о том, что среднее время между заказами у пользователей мобильных утсройств все-таки выше, чем у пользователей стационарных устройств. Возможно это связано с тем, что они покупают больше, но реже"
   ]
  },
  {
   "cell_type": "markdown",
   "id": "3aeab9c2-c09e-4561-8c85-9d1a0ee8392c",
   "metadata": {},
   "source": [
    "## Итоговый вывод и рекомендации\n",
    "\n",
    "Для исследования были предоставлены данные сервиса Яндекс.Афиша за период 01.06.2024-31.10.2024. \n",
    "В данных были выявлены пропуски при объединении двух датафреймов, аномалии в количественных столбцах, а также неявные дубликаты. После предобработки данные сократились на 2.5%, а итоговый объем результатирующего датафрейма составил - 283 395 строк. Для команды продукта инсайт по поводу определения типа события и описания события - значения \"другое\" и \"события\" убрать из классификации мероприятий, чтобы точно индентифицировать информацию и не терять огромные куски данных при анализе.\n",
    "\n",
    "**В ходе исследовательского анализа данных были сформулированы следующие выводы:**\n",
    "- Увеличение пользователськой активности действительно наблюдается в сентябре и октябре, что обусловлено тем, что в осеннюю погоду меньше возможностей проведения досуга, на улице уже холодает, а также большинство людей вероятно возвращается из отпусков;\n",
    "- Особый интерес осенью также наблюдается к таким типам событий, как \"спорт\" и \"театр\", а также уже виден интерес к \"елкам\", остальные же типы событий в сравнении с летом наоборот теряют в популярности;\n",
    "- Средняя стоимость билетов практически по всем типам событий снижается осенью, а также видно, что в начале осенних месяцев есть пики по заказам (при том, что такого же значительного увеличения притока пользователей нет, значит что-то происходит с конверсионностью), нужно понять, в чем их причина, разобраться глубже с проводимыми акциями и тестами;\n",
    "- Больше заказов совершается в будни, а именно в четверг, а посещаемость также высокая именно в будни - вторник, четверг, среду. Можно предположить, что вторник, среду пользователи присматриваются, а в четверг уже делают заказ;\n",
    "- Среди регионов есть яркие лидеры по выручке и заказам, это Каменевский регион и Североярская область, далее остальные регионы уже составляют не такую большую долю, эти регионы можно назвать некими монополистами или олигополистами (по крайней мере из всех они наиболее консолидированы, у остальных малые доли);\n",
    "- Среди партнеров лидеры - Билеты без проблем, Мой билет, Облачко. \"Мой билет\" имеет малое количество мероприятий относительно других лидеров, это говорит о том, что оператор предлагает ограниченный пул мероприятий, но такой, что занимает 2ое место по выручке - возможно у него популярнее мероприятия. Оператор \"Облачко\" явно имеет средний чек выше, чем у других операторов, так как у него 3е место по выручке, но относительно скромная доля заказов.\n",
    "\n",
    "**Выводы по статистическому анализу и проверке гипотез:**\n",
    "- Пользователи мобильных устройств приобретают больше билетов, но реже. Есть основания для того, чтобы эти сегменты уравнять - интенсифицировать частоту покупок у пользователей мобильных устройств, а у стационарных количество приобретаемых билетов.\n",
    "\n",
    "**Практические рекомендации:**\n",
    "- При годовом планировании стоит учитывать сезонность и в связи с этим распределять бюджеты в пиковые периоды - сентябрь-декабрь. Что касается более коротких горизонтов планирования, то промоакции, пуш-уведомления, e-mail-рассылки следует делать со вторника по четверг, вторник-среда - более информационный контент, а в четверг - конверсионный (скидки, акции и тд.). Либо же можно стимулировать продажи в другие дни, отличные от четверга, типа \"ранний билет\" - приобретай билет до четверга и получай скидку 10%\n",
    "- Концентрация на интересных для текущего сезона типа событий - театры, спорт и елки. Тоже планирование под них выдачу, плейсменты, акции и бюджеты.\n",
    "- Развивать больше регионов, потому что два ведущих региона это очень мало, явно есть потенциал для роста, по приоритету взять следующие по выручке регионы - Широковская область, Светополянский округ, Речиновская область. Рассмотреть различные сотрудничества с местными операторами и площадками.\n",
    "- Для различных типов устройств две различные стратегии - для пользователей мобильных устройств увеличить частоту покупок (сократить срок именно между заказами), а для десктопных пользователей увеличить количество билетов в заказе (увеличение среднего чека)"
   ]
  },
  {
   "cell_type": "code",
   "execution_count": null,
   "id": "b68886c1-94db-4da0-9e49-f09487da0c94",
   "metadata": {},
   "outputs": [],
   "source": []
  }
 ],
 "metadata": {
  "ExecuteTimeLog": [
   {
    "duration": 1105,
    "start_time": "2025-07-13T20:25:44.895Z"
   },
   {
    "duration": 1813,
    "start_time": "2025-07-13T20:25:46.001Z"
   },
   {
    "duration": 16,
    "start_time": "2025-07-13T20:25:47.815Z"
   },
   {
    "duration": 95,
    "start_time": "2025-07-13T20:25:47.833Z"
   },
   {
    "duration": 10,
    "start_time": "2025-07-13T20:25:47.929Z"
   },
   {
    "duration": 54,
    "start_time": "2025-07-13T20:25:47.940Z"
   },
   {
    "duration": 21,
    "start_time": "2025-07-13T20:25:47.995Z"
   },
   {
    "duration": 16,
    "start_time": "2025-07-13T20:25:48.018Z"
   },
   {
    "duration": 366,
    "start_time": "2025-07-13T20:25:50.043Z"
   },
   {
    "duration": 6,
    "start_time": "2025-07-13T20:25:50.595Z"
   },
   {
    "duration": 266,
    "start_time": "2025-07-13T20:25:51.254Z"
   },
   {
    "duration": 291,
    "start_time": "2025-07-13T20:25:51.684Z"
   },
   {
    "duration": 1004,
    "start_time": "2025-07-13T20:25:52.062Z"
   },
   {
    "duration": 23,
    "start_time": "2025-07-13T20:25:53.067Z"
   },
   {
    "duration": 734,
    "start_time": "2025-07-13T20:25:53.283Z"
   },
   {
    "duration": 731,
    "start_time": "2025-07-13T20:25:54.018Z"
   },
   {
    "duration": 179,
    "start_time": "2025-07-13T20:25:54.751Z"
   },
   {
    "duration": 164,
    "start_time": "2025-07-13T20:25:54.974Z"
   },
   {
    "duration": 229,
    "start_time": "2025-07-13T20:25:55.803Z"
   },
   {
    "duration": 480,
    "start_time": "2025-07-13T20:25:56.234Z"
   },
   {
    "duration": 242,
    "start_time": "2025-07-13T20:25:57.363Z"
   },
   {
    "duration": 44,
    "start_time": "2025-07-13T20:25:57.995Z"
   },
   {
    "duration": 157,
    "start_time": "2025-07-13T20:25:58.323Z"
   }
  ],
  "kernelspec": {
   "display_name": "Python 3 (ipykernel)",
   "language": "python",
   "name": "python3"
  },
  "language_info": {
   "codemirror_mode": {
    "name": "ipython",
    "version": 3
   },
   "file_extension": ".py",
   "mimetype": "text/x-python",
   "name": "python",
   "nbconvert_exporter": "python",
   "pygments_lexer": "ipython3",
   "version": "3.12.7"
  },
  "toc": {
   "base_numbering": 1,
   "nav_menu": {},
   "number_sections": true,
   "sideBar": true,
   "skip_h1_title": true,
   "title_cell": "Table of Contents",
   "title_sidebar": "Contents",
   "toc_cell": false,
   "toc_position": {},
   "toc_section_display": true,
   "toc_window_display": false
  }
 },
 "nbformat": 4,
 "nbformat_minor": 5
}
